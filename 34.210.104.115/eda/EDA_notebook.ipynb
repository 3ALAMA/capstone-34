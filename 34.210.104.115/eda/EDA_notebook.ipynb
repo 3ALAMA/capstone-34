{
 "cells": [
  {
   "cell_type": "code",
   "execution_count": 36,
   "metadata": {},
   "outputs": [
    {
     "name": "stdout",
     "output_type": "stream",
     "text": [
      "Collecting nltk\n",
      "  Downloading nltk-3.2.5.tar.gz (1.2MB)\n",
      "\u001b[K    100% |████████████████████████████████| 1.2MB 513kB/s eta 0:00:01\n",
      "\u001b[?25hRequirement already satisfied: six in /opt/conda/lib/python3.6/site-packages (from nltk)\n",
      "Building wheels for collected packages: nltk\n",
      "  Running setup.py bdist_wheel for nltk ... \u001b[?25ldone\n",
      "\u001b[?25h  Stored in directory: /home/jovyan/.cache/pip/wheels/18/9c/1f/276bc3f421614062468cb1c9d695e6086d0c73d67ea363c501\n",
      "Successfully built nltk\n",
      "Installing collected packages: nltk\n",
      "Successfully installed nltk-3.2.5\n"
     ]
    }
   ],
   "source": [
    "#!pip install nltk"
   ]
  },
  {
   "cell_type": "markdown",
   "metadata": {},
   "source": [
    "## EDA ON EG TWEETS"
   ]
  },
  {
   "cell_type": "code",
   "execution_count": 1,
   "metadata": {},
   "outputs": [],
   "source": [
    "import pandas as pd\n",
    "import json\n",
    "import matplotlib.pyplot as plt\n",
    "%matplotlib inline "
   ]
  },
  {
   "cell_type": "code",
   "execution_count": 4,
   "metadata": {},
   "outputs": [],
   "source": [
    "pd.options.display.max_colwidth = 75"
   ]
  },
  {
   "cell_type": "code",
   "execution_count": 3,
   "metadata": {
    "scrolled": true
   },
   "outputs": [
    {
     "data": {
      "text/plain": [
       "'/home/jovyan/capstone-34/34.210.104.115/eda'"
      ]
     },
     "execution_count": 3,
     "metadata": {},
     "output_type": "execute_result"
    }
   ],
   "source": [
    "pwd"
   ]
  },
  {
   "cell_type": "code",
   "execution_count": 13,
   "metadata": {},
   "outputs": [
    {
     "name": "stdout",
     "output_type": "stream",
     "text": [
      "stream_أزاي.p  stream_ازيك.p  stream_كوباية.p\r\n"
     ]
    }
   ],
   "source": [
    "cd eg_twitter_pickled/"
   ]
  },
  {
   "cell_type": "code",
   "execution_count": 15,
   "metadata": {},
   "outputs": [
    {
     "name": "stdout",
     "output_type": "stream",
     "text": [
      "stream_أزاي.p  stream_ازيك.p  stream_كوباية.p\r\n"
     ]
    }
   ],
   "source": [
    "ls"
   ]
  },
  {
   "cell_type": "markdown",
   "metadata": {},
   "source": [
    "### Instantiate cleaned pickles"
   ]
  },
  {
   "cell_type": "code",
   "execution_count": 16,
   "metadata": {},
   "outputs": [],
   "source": [
    "df_batch_1 = pd.read_pickle('../eg_twitter_pickled/stream_ازيك.p')"
   ]
  },
  {
   "cell_type": "markdown",
   "metadata": {},
   "source": [
    "### Identify most frequent `locations` and `names`"
   ]
  },
  {
   "cell_type": "code",
   "execution_count": 18,
   "metadata": {
    "scrolled": true
   },
   "outputs": [
    {
     "data": {
      "text/plain": [
       "None            110\n",
       "Egypt            46\n",
       "Mansoura          7\n",
       "Saudi Arabia      5\n",
       "الاسكندرية        3\n",
       "Name: cleaned_geo, dtype: int64"
      ]
     },
     "execution_count": 18,
     "metadata": {},
     "output_type": "execute_result"
    }
   ],
   "source": [
    "df_batch_1.cleaned_geo.value_counts().head()"
   ]
  },
  {
   "cell_type": "code",
   "execution_count": 14,
   "metadata": {
    "scrolled": true
   },
   "outputs": [
    {
     "data": {
      "text/plain": [
       "<matplotlib.axes._subplots.AxesSubplot at 0x7fe17c73f860>"
      ]
     },
     "execution_count": 14,
     "metadata": {},
     "output_type": "execute_result"
    },
    {
     "data": {
      "image/png": "[encoded data removed]",
      "text/plain": [
       "<matplotlib.figure.Figure at 0x7fe17d0da4a8>"
      ]
     },
     "metadata": {},
     "output_type": "display_data"
    }
   ],
   "source": [
    "df_batch_1.cleaned_geo.value_counts().hist()"
   ]
  },
  {
   "cell_type": "code",
   "execution_count": 19,
   "metadata": {},
   "outputs": [
    {
     "data": {
      "text/plain": [
       "hramy_kg2       3\n",
       "ashgAltha7ka    3\n",
       "cocogeorge83    2\n",
       "Sweetmayouya    2\n",
       "gana_atwa       2\n",
       "Name: cleaned_name, dtype: int64"
      ]
     },
     "execution_count": 19,
     "metadata": {},
     "output_type": "execute_result"
    }
   ],
   "source": [
    "df_batch_1.cleaned_name.value_counts().head()"
   ]
  },
  {
   "cell_type": "code",
   "execution_count": 7,
   "metadata": {},
   "outputs": [
    {
     "data": {
      "text/plain": [
       "<matplotlib.axes._subplots.AxesSubplot at 0x7fe17f1d0240>"
      ]
     },
     "execution_count": 7,
     "metadata": {},
     "output_type": "execute_result"
    },
    {
     "data": {
      "image/png": "[encoded data removed]",
      "text/plain": [
       "<matplotlib.figure.Figure at 0x7fe1845f6278>"
      ]
     },
     "metadata": {},
     "output_type": "display_data"
    }
   ],
   "source": [
    "df_batch_1.cleaned_name.value_counts().hist()"
   ]
  },
  {
   "cell_type": "code",
   "execution_count": 20,
   "metadata": {},
   "outputs": [
    {
     "data": {
      "text/plain": [
       "array(['None', 'Egypt↩Dubai', 'Egypt', 'بولندا', 'الاسكندرية', 'Cairo',\n",
       "       'الأسكندرية, مصر', 'Tanta Egypt', 'El Monofia, Egypt',\n",
       "       'Cairo , Egypt', 'Ciudad Real, Spain', 'Mansoura', 'Saudi Arabia',\n",
       "       'الدمام', 'Germany', 'اخر الدنيا', 'في ارض الله الواسعه',\n",
       "       'mansoura . egypt', 'فى اللانهائية وما بعدها',\n",
       "       'El Monofia, Egypt shebin Elkom', 'Jordan Ksa .', 'قرية الجية',\n",
       "       'Gaza, Palestine', 'هناك في السلام الداخلي', 'zagazig', 'السعودية',\n",
       "       'خـيالگـو المـريـض !', 'Tokyo.London', 'طنطا', 'Tanta, Egypt',\n",
       "       'Cairo -Egypt', 'السعودية - جدة', 'mansoura', 'Alexandria',\n",
       "       'underground', 'El Daqahlia, Egypt', 'Q8', 'baghdad - iraq',\n",
       "       'الاسكندريه دائما وابدآ', 'مصر ام الدنيا', 'يلا مش مہم',\n",
       "       'يوم ف السويس و في المقطم', 'S A U D I A R A B I A',\n",
       "       'صلالة / أرض الأصالة واللبان', '🇸🇦️', 'Jeddah / KSA',\n",
       "       'mahmoudbenkamal.Sarahah.com', 'القلعة', 'بنى سويف, مصر',\n",
       "       'في بيتنا', 'Tanta', 'فوق السوبر ماركت', 'السويس, مصر', '',\n",
       "       'في الفناء حيث اللامكان سواي!', 'السويس بلد الغريب', '🇪🇬🇪🇬',\n",
       "       'جنوب سيناء, مصر', 'Hashemite Kingdom of Jordan',\n",
       "       'Como, Lombardia-Italy', 'cairo', 'North Sinai, Egypt',\n",
       "       'non of your bussines', 'portsaid -cairo- london',\n",
       "       'irbid, Jordan khobar, KSA', 'gaza', 'El Gharbia, Egypt',\n",
       "       'Dubai, نابلس', 'المنوفية, مصر', 'مايلزمكش', 'ولد في /أغسطس',\n",
       "       'Irbid, Hashemite Kingdom of Jordan', 'في المعلش', 'اللابوريا',\n",
       "       'my small world', 'alexandria', 'جيزان،الممكة العربية السعودية',\n",
       "       'بلد ال مليون زقزوق', 'اخر كوكب فِ الدنيا.', 'Libya', 'حارة اليهود',\n",
       "       'تميم المجد \" Dec 🇶🇦 \"', 'UAE 🇦🇪 - Egypt 🇪🇬', 'الركن البعيد الهادى',\n",
       "       'Benghazi_LY ️', 'Interlaken, Schweiz', 'الامارات',\n",
       "       'Mansoura - Egypt', 'Lur, Egypt', 'القصيم', 'assuit,egypt',\n",
       "       'International', 'الأقصر, مصر', 'Egypt (Menofia) - KSA (Tabouk)',\n",
       "       '🇪🇬🇪🇬🇪🇬', 'المطعم', 'Erbil', 'Cairo. Egypt', 'الأردن - نابلس.',\n",
       "       'مندسه تحت الترابيزه', 'Alex', 'El Mansoura,', 'Suez, Egypt',\n",
       "       'Beni Suef', 'Ismailia/Monoufia', 'go and find yourself',\n",
       "       'Elmnsora', 'New York, NY', 'United Arab Emirates',\n",
       "       'المملكة الأردنية الهاشمية', 'هناك', 'tanta', 'mansoura-6 october',\n",
       "       'جمب الشاحن تحت الراوتر', 'عند البربء اللي هناك',\n",
       "       'لندن الدور التاني', 'Out of the world', 'أرض الله الواسعة',\n",
       "       'Damietta-Egypt', '\\'\\'MARS\"', 'اكتوبر, مصر', 'الدقهلية, مصر',\n",
       "       'Mansurah, Egypt', 'اي مكان فيه هلس', 'Madinty city',\n",
       "       'elminya ,egypt', 'Mansoura / Alexandria', 'helwan',\n",
       "       'مَـ ع ـــآاک دايمــٰــآاا', 'zag', 'غيمة إيجار ️',\n",
       "       'Jeddah, مدينة الحالمين', 'mazazZik', 'Aswan, Egypt', 'Assiut',\n",
       "       'شبراااوى', 'أبوظبي', 'طنطا ام الدنيا ^^', 'Jordan, Saudi arabia',\n",
       "       'AL_ZARQA AL_SUKHNAH'], dtype=object)"
      ]
     },
     "execution_count": 20,
     "metadata": {},
     "output_type": "execute_result"
    }
   ],
   "source": [
    "df_batch_1.cleaned_geo.unique()"
   ]
  },
  {
   "cell_type": "code",
   "execution_count": 21,
   "metadata": {},
   "outputs": [
    {
     "name": "stdout",
     "output_type": "stream",
     "text": [
      "<class 'pandas.core.frame.DataFrame'>\n",
      "Int64Index: 330 entries, 0 to 632\n",
      "Data columns (total 3 columns):\n",
      "cleaned_text    330 non-null object\n",
      "cleaned_name    330 non-null object\n",
      "cleaned_geo     330 non-null object\n",
      "dtypes: object(3)\n",
      "memory usage: 10.3+ KB\n"
     ]
    }
   ],
   "source": [
    "df_batch_1.info()"
   ]
  },
  {
   "cell_type": "code",
   "execution_count": 22,
   "metadata": {},
   "outputs": [
    {
     "data": {
      "text/plain": [
       "310"
      ]
     },
     "execution_count": 22,
     "metadata": {},
     "output_type": "execute_result"
    }
   ],
   "source": [
    "df_batch_1.cleaned_name.nunique()"
   ]
  },
  {
   "cell_type": "markdown",
   "metadata": {},
   "source": [
    "__Finding users with highest lexical diversity scores to add them to timelines search__"
   ]
  },
  {
   "cell_type": "code",
   "execution_count": 23,
   "metadata": {},
   "outputs": [],
   "source": [
    "def lexical_diversity(text):\n",
    "    return len(set(text)) / len(text)"
   ]
  },
  {
   "cell_type": "code",
   "execution_count": 24,
   "metadata": {},
   "outputs": [],
   "source": [
    "#creating cleaned text score in a new column\n",
    "df_batch_1['cleaned_text_score'] = df_batch_1['cleaned_text'].map(lambda x: lexical_diversity(x))"
   ]
  },
  {
   "cell_type": "code",
   "execution_count": 25,
   "metadata": {},
   "outputs": [],
   "source": [
    "#creating length of cleaned text in a new column to remove short tweets w/high lexical diversity score\n",
    "df_batch_1['cleaned_text_len'] = df_batch_1['cleaned_text'].map(lambda x: len(x))"
   ]
  },
  {
   "cell_type": "code",
   "execution_count": 26,
   "metadata": {},
   "outputs": [],
   "source": [
    "#creating mask of tweets w/ lexical diversity scores over 0.4\n",
    "df_highest_user_scores = df_batch_1.loc[df_batch_1['cleaned_text_score'] >= 0.4, \n",
    "                                        ['cleaned_name','cleaned_text_score', 'cleaned_text', 'cleaned_text_len']]"
   ]
  },
  {
   "cell_type": "code",
   "execution_count": 27,
   "metadata": {},
   "outputs": [
    {
     "data": {
      "text/html": [
       "<div>\n",
       "<table border=\"1\" class=\"dataframe\">\n",
       "  <thead>\n",
       "    <tr style=\"text-align: right;\">\n",
       "      <th></th>\n",
       "      <th>cleaned_name</th>\n",
       "      <th>cleaned_text_score</th>\n",
       "      <th>cleaned_text</th>\n",
       "      <th>cleaned_text_len</th>\n",
       "    </tr>\n",
       "  </thead>\n",
       "  <tbody>\n",
       "    <tr>\n",
       "      <th>7</th>\n",
       "      <td>Hazem__Azim</td>\n",
       "      <td>0.448980</td>\n",
       "      <td>ازيك يا محمد .. قلقتني عليك بشدة .. اختفائك .. ؟!</td>\n",
       "      <td>49</td>\n",
       "    </tr>\n",
       "    <tr>\n",
       "      <th>8</th>\n",
       "      <td>mzeezm131</td>\n",
       "      <td>0.450980</td>\n",
       "      <td>: ازيك يا محمد .. قلقتني عليك بشدة .. اختفائك .. ؟!</td>\n",
       "      <td>51</td>\n",
       "    </tr>\n",
       "    <tr>\n",
       "      <th>29</th>\n",
       "      <td>Ibrahim1991116</td>\n",
       "      <td>0.400000</td>\n",
       "      <td>ازيك انتى بتعلمينى الصبر على البلاء افتكرى ده</td>\n",
       "      <td>45</td>\n",
       "    </tr>\n",
       "    <tr>\n",
       "      <th>49</th>\n",
       "      <td>rara_albitar</td>\n",
       "      <td>0.511628</td>\n",
       "      <td>مره رز سلم على مديره قاله ازيك يا Rice 🤦‍️.</td>\n",
       "      <td>43</td>\n",
       "    </tr>\n",
       "    <tr>\n",
       "      <th>50</th>\n",
       "      <td>mhmdthammad97</td>\n",
       "      <td>0.511111</td>\n",
       "      <td>: مره رز سلم على مديره قاله ازيك يا Rice 🤦‍️.</td>\n",
       "      <td>45</td>\n",
       "    </tr>\n",
       "    <tr>\n",
       "      <th>54</th>\n",
       "      <td>Ayaatttt</td>\n",
       "      <td>0.425000</td>\n",
       "      <td>صباح السكر . ازيك ياحسين كل سنه وانت طيب</td>\n",
       "      <td>40</td>\n",
       "    </tr>\n",
       "    <tr>\n",
       "      <th>91</th>\n",
       "      <td>mariammarmar22</td>\n",
       "      <td>0.404255</td>\n",
       "      <td>: فى لحظه بحس كلمه ازيك ليا ليها كل معانى العشق</td>\n",
       "      <td>47</td>\n",
       "    </tr>\n",
       "    <tr>\n",
       "      <th>94</th>\n",
       "      <td>alharby1133</td>\n",
       "      <td>0.425532</td>\n",
       "      <td>أشده من قفاه واقوله ازيك الجراءة حلوة مفيش كلام</td>\n",
       "      <td>47</td>\n",
       "    </tr>\n",
       "    <tr>\n",
       "      <th>133</th>\n",
       "      <td>fJuve3</td>\n",
       "      <td>0.460000</td>\n",
       "      <td>ازيك يابو مكة ماتعيطش مش حنضرب جامد -٠ عليكم كفاية</td>\n",
       "      <td>50</td>\n",
       "    </tr>\n",
       "    <tr>\n",
       "      <th>145</th>\n",
       "      <td>ahmed_elghoull</td>\n",
       "      <td>0.452830</td>\n",
       "      <td>- ازيك فاكرني ؟ - اه طبعآ وهيا الأشكال الوسخة تتنسي !</td>\n",
       "      <td>53</td>\n",
       "    </tr>\n",
       "  </tbody>\n",
       "</table>\n",
       "</div>"
      ],
      "text/plain": [
       "       cleaned_name  cleaned_text_score  \\\n",
       "7       Hazem__Azim            0.448980   \n",
       "8         mzeezm131            0.450980   \n",
       "29   Ibrahim1991116            0.400000   \n",
       "49     rara_albitar            0.511628   \n",
       "50    mhmdthammad97            0.511111   \n",
       "54         Ayaatttt            0.425000   \n",
       "91   mariammarmar22            0.404255   \n",
       "94      alharby1133            0.425532   \n",
       "133          fJuve3            0.460000   \n",
       "145  ahmed_elghoull            0.452830   \n",
       "\n",
       "                                              cleaned_text  cleaned_text_len  \n",
       "7        ازيك يا محمد .. قلقتني عليك بشدة .. اختفائك .. ؟!                49  \n",
       "8      : ازيك يا محمد .. قلقتني عليك بشدة .. اختفائك .. ؟!                51  \n",
       "29           ازيك انتى بتعلمينى الصبر على البلاء افتكرى ده                45  \n",
       "49             مره رز سلم على مديره قاله ازيك يا Rice 🤦‍️.                43  \n",
       "50           : مره رز سلم على مديره قاله ازيك يا Rice 🤦‍️.                45  \n",
       "54                صباح السكر . ازيك ياحسين كل سنه وانت طيب                40  \n",
       "91         : فى لحظه بحس كلمه ازيك ليا ليها كل معانى العشق                47  \n",
       "94         أشده من قفاه واقوله ازيك الجراءة حلوة مفيش كلام                47  \n",
       "133     ازيك يابو مكة ماتعيطش مش حنضرب جامد -٠ عليكم كفاية                50  \n",
       "145  - ازيك فاكرني ؟ - اه طبعآ وهيا الأشكال الوسخة تتنسي !                53  "
      ]
     },
     "execution_count": 27,
     "metadata": {},
     "output_type": "execute_result"
    }
   ],
   "source": [
    "#adding mask to exclude tweets under 40 characters\n",
    "df_highest_user_scores[(df_highest_user_scores['cleaned_text_score'] >= 0.40) \n",
    "                         & (df_highest_user_scores['cleaned_text_len'] >= 40)].head(10)"
   ]
  },
  {
   "cell_type": "code",
   "execution_count": 28,
   "metadata": {},
   "outputs": [
    {
     "data": {
      "text/html": [
       "<div>\n",
       "<table border=\"1\" class=\"dataframe\">\n",
       "  <thead>\n",
       "    <tr style=\"text-align: right;\">\n",
       "      <th></th>\n",
       "      <th>cleaned_name</th>\n",
       "      <th>cleaned_text_score</th>\n",
       "      <th>cleaned_text</th>\n",
       "      <th>cleaned_text_len</th>\n",
       "    </tr>\n",
       "  </thead>\n",
       "  <tbody>\n",
       "    <tr>\n",
       "      <th>63</th>\n",
       "      <td>Nody183</td>\n",
       "      <td>1.0</td>\n",
       "      <td>ازيك |</td>\n",
       "      <td>6</td>\n",
       "    </tr>\n",
       "    <tr>\n",
       "      <th>374</th>\n",
       "      <td>jL6lSOIru47CE</td>\n",
       "      <td>1.0</td>\n",
       "      <td>طب ازيك</td>\n",
       "      <td>7</td>\n",
       "    </tr>\n",
       "    <tr>\n",
       "      <th>95</th>\n",
       "      <td>badr_1388</td>\n",
       "      <td>1.0</td>\n",
       "      <td>: …</td>\n",
       "      <td>3</td>\n",
       "    </tr>\n",
       "    <tr>\n",
       "      <th>600</th>\n",
       "      <td>shadymohsen389</td>\n",
       "      <td>1.0</td>\n",
       "      <td>هشخر</td>\n",
       "      <td>4</td>\n",
       "    </tr>\n",
       "    <tr>\n",
       "      <th>194</th>\n",
       "      <td>nourai208</td>\n",
       "      <td>1.0</td>\n",
       "      <td>: ازيك</td>\n",
       "      <td>6</td>\n",
       "    </tr>\n",
       "  </tbody>\n",
       "</table>\n",
       "</div>"
      ],
      "text/plain": [
       "       cleaned_name  cleaned_text_score cleaned_text  cleaned_text_len\n",
       "63          Nody183                 1.0       ازيك |                 6\n",
       "374   jL6lSOIru47CE                 1.0      طب ازيك                 7\n",
       "95        badr_1388                 1.0          : …                 3\n",
       "600  shadymohsen389                 1.0         هشخر                 4\n",
       "194       nourai208                 1.0       : ازيك                 6"
      ]
     },
     "execution_count": 28,
     "metadata": {},
     "output_type": "execute_result"
    }
   ],
   "source": [
    "df_highest_user_scores.sort_values('cleaned_text_score', ascending=False).head()"
   ]
  },
  {
   "cell_type": "markdown",
   "metadata": {},
   "source": [
    "### Conduct EDA on tweets"
   ]
  },
  {
   "cell_type": "code",
   "execution_count": 29,
   "metadata": {},
   "outputs": [],
   "source": [
    "word_list = [word for line in df_batch_1['cleaned_text'] for word in line.split()]"
   ]
  },
  {
   "cell_type": "code",
   "execution_count": 31,
   "metadata": {},
   "outputs": [
    {
     "data": {
      "text/plain": [
       "['ازيك', 'صباح', 'الفل', 'اللهم', 'آمين']"
      ]
     },
     "execution_count": 31,
     "metadata": {},
     "output_type": "execute_result"
    }
   ],
   "source": [
    "word_list[:5]"
   ]
  },
  {
   "cell_type": "code",
   "execution_count": 32,
   "metadata": {},
   "outputs": [
    {
     "data": {
      "text/plain": [
       "0"
      ]
     },
     "execution_count": 32,
     "metadata": {},
     "output_type": "execute_result"
    }
   ],
   "source": [
    "word_list.count('مغسلة')"
   ]
  },
  {
   "cell_type": "code",
   "execution_count": 33,
   "metadata": {},
   "outputs": [
    {
     "data": {
      "text/plain": [
       "2977"
      ]
     },
     "execution_count": 33,
     "metadata": {},
     "output_type": "execute_result"
    }
   ],
   "source": [
    "len(word_list)"
   ]
  },
  {
   "cell_type": "code",
   "execution_count": 34,
   "metadata": {},
   "outputs": [
    {
     "data": {
      "text/plain": [
       "1312"
      ]
     },
     "execution_count": 34,
     "metadata": {},
     "output_type": "execute_result"
    }
   ],
   "source": [
    "vocab = set(word_list)\n",
    "vocab_size = len(vocab)\n",
    "vocab_size"
   ]
  },
  {
   "cell_type": "code",
   "execution_count": 37,
   "metadata": {},
   "outputs": [],
   "source": [
    "from nltk.text import Text  "
   ]
  },
  {
   "cell_type": "code",
   "execution_count": 39,
   "metadata": {},
   "outputs": [],
   "source": [
    "text_eda = Text(word_list)"
   ]
  },
  {
   "cell_type": "code",
   "execution_count": 38,
   "metadata": {},
   "outputs": [],
   "source": [
    "def percentage(count, total):\n",
    "    return 100 * count / total"
   ]
  },
  {
   "cell_type": "code",
   "execution_count": 40,
   "metadata": {},
   "outputs": [
    {
     "data": {
      "text/plain": [
       "0.0"
      ]
     },
     "execution_count": 40,
     "metadata": {},
     "output_type": "execute_result"
    }
   ],
   "source": [
    "percentage(text_eda.count('مغسلة'), len(text_eda))"
   ]
  },
  {
   "cell_type": "code",
   "execution_count": 41,
   "metadata": {},
   "outputs": [
    {
     "name": "stdout",
     "output_type": "stream",
     "text": [
      "No matches\n"
     ]
    }
   ],
   "source": [
    "text_eda.concordance(\"مغسلة\")"
   ]
  },
  {
   "cell_type": "code",
   "execution_count": 42,
   "metadata": {},
   "outputs": [],
   "source": [
    "from nltk import FreqDist"
   ]
  },
  {
   "cell_type": "code",
   "execution_count": 43,
   "metadata": {},
   "outputs": [],
   "source": [
    "fdist1 = FreqDist(text_eda)"
   ]
  },
  {
   "cell_type": "code",
   "execution_count": 44,
   "metadata": {},
   "outputs": [
    {
     "data": {
      "text/plain": [
       "['ازيك', 'صباح', 'الفل', 'اللهم', 'آمين', '..', 'يارب', 'تكون', 'في', 'احسن']"
      ]
     },
     "execution_count": 44,
     "metadata": {},
     "output_type": "execute_result"
    }
   ],
   "source": [
    "vocabulary1 = list(fdist1.keys())\n",
    "vocabulary1[:10]"
   ]
  },
  {
   "cell_type": "code",
   "execution_count": 45,
   "metadata": {},
   "outputs": [
    {
     "data": {
      "image/png": "[encoded data removed]",
      "text/plain": [
       "<matplotlib.figure.Figure at 0x7f3dad40d198>"
      ]
     },
     "metadata": {},
     "output_type": "display_data"
    }
   ],
   "source": [
    "fdist1.plot(50, cumulative=True)"
   ]
  },
  {
   "cell_type": "code",
   "execution_count": 46,
   "metadata": {},
   "outputs": [
    {
     "data": {
      "image/png": "[encoded data removed]",
      "text/plain": [
       "<matplotlib.figure.Figure at 0x7f3dab27e470>"
      ]
     },
     "metadata": {},
     "output_type": "display_data"
    }
   ],
   "source": [
    "text_eda.dispersion_plot([u\"مغسلة\", \"ياخذون\", \"فقط\", \"داخل\", \"عايز\"])"
   ]
  },
  {
   "cell_type": "code",
   "execution_count": 47,
   "metadata": {},
   "outputs": [
    {
     "name": "stdout",
     "output_type": "stream",
     "text": [
      "No matches\n"
     ]
    }
   ],
   "source": [
    "text_eda.similar(\"مغسلة\")"
   ]
  },
  {
   "cell_type": "code",
   "execution_count": 48,
   "metadata": {},
   "outputs": [
    {
     "data": {
      "text/plain": [
       "['Rice',\n",
       " 'ازيك',\n",
       " 'الله',\n",
       " 'اللي',\n",
       " 'انا',\n",
       " 'انت',\n",
       " 'ايه',\n",
       " 'حبو',\n",
       " 'شوية',\n",
       " 'عامل',\n",
       " 'على',\n",
       " 'علي',\n",
       " 'قالي',\n",
       " 'لما',\n",
       " 'مديرهم',\n",
       " 'مرة',\n",
       " 'يسلمو']"
      ]
     },
     "execution_count": 48,
     "metadata": {},
     "output_type": "execute_result"
    }
   ],
   "source": [
    "sorted([w for w in set(word_list) if len(w) > 2 and fdist1[w] > 10])"
   ]
  },
  {
   "cell_type": "code",
   "execution_count": 49,
   "metadata": {},
   "outputs": [],
   "source": [
    "word_length = [len(w) for w in text_eda]"
   ]
  },
  {
   "cell_type": "code",
   "execution_count": 50,
   "metadata": {},
   "outputs": [
    {
     "data": {
      "text/plain": [
       "[4, 4, 4, 5, 4, 2, 4, 2, 4, 4]"
      ]
     },
     "execution_count": 50,
     "metadata": {},
     "output_type": "execute_result"
    }
   ],
   "source": [
    "word_length[:10]"
   ]
  },
  {
   "cell_type": "code",
   "execution_count": 51,
   "metadata": {},
   "outputs": [],
   "source": [
    "fdist = FreqDist([len(w) for w in text_eda])"
   ]
  },
  {
   "cell_type": "code",
   "execution_count": 52,
   "metadata": {},
   "outputs": [
    {
     "name": "stdout",
     "output_type": "stream",
     "text": [
      "<FreqDist with 14 samples and 2977 outcomes>\n"
     ]
    }
   ],
   "source": [
    "print(fdist)"
   ]
  },
  {
   "cell_type": "code",
   "execution_count": 53,
   "metadata": {},
   "outputs": [
    {
     "data": {
      "text/plain": [
       "dict_items([(4, 943), (5, 409), (2, 429), (3, 445), (1, 219), (6, 293), (8, 67), (7, 133), (10, 7), (9, 23), (12, 5), (11, 2), (22, 1), (13, 1)])"
      ]
     },
     "execution_count": 53,
     "metadata": {},
     "output_type": "execute_result"
    }
   ],
   "source": [
    "fdist.items()"
   ]
  },
  {
   "cell_type": "code",
   "execution_count": 54,
   "metadata": {},
   "outputs": [
    {
     "data": {
      "text/plain": [
       "4"
      ]
     },
     "execution_count": 54,
     "metadata": {},
     "output_type": "execute_result"
    }
   ],
   "source": [
    "fdist.max()"
   ]
  },
  {
   "cell_type": "code",
   "execution_count": 55,
   "metadata": {},
   "outputs": [
    {
     "data": {
      "text/plain": [
       "0.14410480349344978"
      ]
     },
     "execution_count": 55,
     "metadata": {},
     "output_type": "execute_result"
    }
   ],
   "source": [
    "fdist.freq(2)"
   ]
  }
 ],
 "metadata": {
  "kernelspec": {
   "display_name": "Python 3",
   "language": "python",
   "name": "python3"
  },
  "language_info": {
   "codemirror_mode": {
    "name": "ipython",
    "version": 3
   },
   "file_extension": ".py",
   "mimetype": "text/x-python",
   "name": "python",
   "nbconvert_exporter": "python",
   "pygments_lexer": "ipython3",
   "version": "3.6.3"
  }
 },
 "nbformat": 4,
 "nbformat_minor": 2
}
