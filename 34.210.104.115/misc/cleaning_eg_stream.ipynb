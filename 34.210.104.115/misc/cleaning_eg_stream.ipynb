{
 "cells": [
  {
   "cell_type": "code",
   "execution_count": 21,
   "metadata": {},
   "outputs": [
    {
     "name": "stdout",
     "output_type": "stream",
     "text": [
      "Collecting tweet-preprocessor\n",
      "  Downloading tweet-preprocessor-0.5.0.tar.gz\n",
      "Building wheels for collected packages: tweet-preprocessor\n",
      "  Running setup.py bdist_wheel for tweet-preprocessor ... \u001b[?25ldone\n",
      "\u001b[?25h  Stored in directory: /home/jovyan/.cache/pip/wheels/64/d9/5c/c72815d52f5770f229b909840516fd7a36e11bd57d4b8f28dd\n",
      "Successfully built tweet-preprocessor\n",
      "Installing collected packages: tweet-preprocessor\n",
      "Successfully installed tweet-preprocessor-0.5.0\n"
     ]
    }
   ],
   "source": [
    "#!pip install tweet-preprocessor"
   ]
  },
  {
   "cell_type": "code",
   "execution_count": null,
   "metadata": {},
   "outputs": [],
   "source": [
    "pd.options.display.max_colwidth = 75"
   ]
  },
  {
   "cell_type": "code",
   "execution_count": 3,
   "metadata": {},
   "outputs": [
    {
     "name": "stdout",
     "output_type": "stream",
     "text": [
      "/home/jovyan\n"
     ]
    }
   ],
   "source": [
    "pwd"
   ]
  },
  {
   "cell_type": "code",
   "execution_count": 16,
   "metadata": {},
   "outputs": [
    {
     "name": "stdout",
     "output_type": "stream",
     "text": [
      "/home/jovyan/capstone-34/34.210.104.115/eg_twitter_raw\n"
     ]
    }
   ],
   "source": [
    "cd eg_twitter_raw/\n"
   ]
  },
  {
   "cell_type": "code",
   "execution_count": 4,
   "metadata": {},
   "outputs": [],
   "source": [
    "import preprocessor as p"
   ]
  },
  {
   "cell_type": "code",
   "execution_count": 24,
   "metadata": {},
   "outputs": [],
   "source": [
    "import pandas as pd\n",
    "import json\n",
    "import re"
   ]
  },
  {
   "cell_type": "markdown",
   "metadata": {},
   "source": [
    "### Turn query documents (tweets) into generators"
   ]
  },
  {
   "cell_type": "code",
   "execution_count": 17,
   "metadata": {},
   "outputs": [],
   "source": [
    "def load_tweets(file):\n",
    "    with open(file, 'r') as f:\n",
    "        tweets = (json.loads(line) for line in f.readlines())\n",
    "    return tweets"
   ]
  },
  {
   "cell_type": "code",
   "execution_count": 18,
   "metadata": {
    "scrolled": true
   },
   "outputs": [],
   "source": [
    "query_gen = load_tweets('stream_ازيك.jsonl')"
   ]
  },
  {
   "cell_type": "markdown",
   "metadata": {},
   "source": [
    "### Turn query generators into dataframes"
   ]
  },
  {
   "cell_type": "code",
   "execution_count": 19,
   "metadata": {},
   "outputs": [],
   "source": [
    "def tweet_to_df(tweets):\n",
    "    data = {'text': [], 'screen_name': [], 'geo': [],\n",
    "       }\n",
    "    \n",
    "    for t in tweets:\n",
    "    \n",
    "        data['text'].append(t['text'])\n",
    "        data['screen_name'].append(t['user']['screen_name'])\n",
    "        data['geo'].append(t['user']['location'])\n",
    "    \n",
    "    return pd.DataFrame(data)"
   ]
  },
  {
   "cell_type": "code",
   "execution_count": 20,
   "metadata": {},
   "outputs": [],
   "source": [
    "query_df = tweet_to_df(query_gen)"
   ]
  },
  {
   "cell_type": "code",
   "execution_count": 21,
   "metadata": {},
   "outputs": [
    {
     "data": {
      "text/html": [
       "<div>\n",
       "<table border=\"1\" class=\"dataframe\">\n",
       "  <thead>\n",
       "    <tr style=\"text-align: right;\">\n",
       "      <th></th>\n",
       "      <th>geo</th>\n",
       "      <th>screen_name</th>\n",
       "      <th>text</th>\n",
       "    </tr>\n",
       "  </thead>\n",
       "  <tbody>\n",
       "    <tr>\n",
       "      <th>530</th>\n",
       "      <td>مَـ ع ـــآاک دايمــٰــآاا ♥</td>\n",
       "      <td>safa2001gam</td>\n",
       "      <td>بتفتحوا مواضيع تتكلموا فيها ازاي يآا جمااعه ، ...</td>\n",
       "    </tr>\n",
       "    <tr>\n",
       "      <th>252</th>\n",
       "      <td>Gharbia.Egypt</td>\n",
       "      <td>MARWA_MUHAMMED1</td>\n",
       "      <td>RT @nourai208: انا الفترة ديه مخنوقة لدرجة لو ...</td>\n",
       "    </tr>\n",
       "    <tr>\n",
       "      <th>602</th>\n",
       "      <td>None</td>\n",
       "      <td>NodyOsman</td>\n",
       "      <td>RT @Sam_ar_: انا في موود لو حد قالي ازيك هعيط</td>\n",
       "    </tr>\n",
       "    <tr>\n",
       "      <th>304</th>\n",
       "      <td>International</td>\n",
       "      <td>mo7ammed_ali7</td>\n",
       "      <td>أنا الأسبوع دا So depressed لدرجة لو حد قالي ا...</td>\n",
       "    </tr>\n",
       "  </tbody>\n",
       "</table>\n",
       "</div>"
      ],
      "text/plain": [
       "                             geo      screen_name  \\\n",
       "530  مَـ ع ـــآاک دايمــٰــآاا ♥      safa2001gam   \n",
       "252                Gharbia.Egypt  MARWA_MUHAMMED1   \n",
       "602                         None        NodyOsman   \n",
       "304                International    mo7ammed_ali7   \n",
       "\n",
       "                                                  text  \n",
       "530  بتفتحوا مواضيع تتكلموا فيها ازاي يآا جمااعه ، ...  \n",
       "252  RT @nourai208: انا الفترة ديه مخنوقة لدرجة لو ...  \n",
       "602      RT @Sam_ar_: انا في موود لو حد قالي ازيك هعيط  \n",
       "304  أنا الأسبوع دا So depressed لدرجة لو حد قالي ا...  "
      ]
     },
     "execution_count": 21,
     "metadata": {},
     "output_type": "execute_result"
    }
   ],
   "source": [
    "query_df.sample(4)"
   ]
  },
  {
   "cell_type": "markdown",
   "metadata": {},
   "source": [
    "### Clean tweets (removes emojis, links, special characters, and ASCII chars/digits from tweet text)"
   ]
  },
  {
   "cell_type": "markdown",
   "metadata": {},
   "source": [
    "Using regular expressions such as `[0-9A-Za-z:!/.?]` can filter out much of the unwanted data and retain Arabic characters but still seems to also retain a more recently released generation of emojis. Try updating tweet-preprocessor to version 0.5.0 or using another tweet processing package. \n",
    "\n",
    "Different scenarios will require different regex combinations. For example, the below approach wouldn't be of much use if you're building English dialect classifiers."
   ]
  },
  {
   "cell_type": "code",
   "execution_count": 22,
   "metadata": {},
   "outputs": [],
   "source": [
    "def cleaner(message):\n",
    "    message = re.sub(\"([0-9A-Za-z:!/.])\", \" \", message)\n",
    "    return message"
   ]
  },
  {
   "cell_type": "code",
   "execution_count": 25,
   "metadata": {},
   "outputs": [],
   "source": [
    "cleaned_text = []\n",
    "\n",
    "for tweet in query_df['text']:\n",
    "    cleaned_text.append(p.clean(cleaner(tweet)))\n",
    "\n",
    "query_df['cleaned_text']=cleaned_text"
   ]
  },
  {
   "cell_type": "code",
   "execution_count": 26,
   "metadata": {},
   "outputs": [],
   "source": [
    "cleaned_name = []\n",
    "\n",
    "for tweet in query_df['screen_name']:\n",
    "    cleaned_name.append(p.clean(tweet))\n",
    "\n",
    "query_df['cleaned_name']=cleaned_name"
   ]
  },
  {
   "cell_type": "code",
   "execution_count": 27,
   "metadata": {},
   "outputs": [],
   "source": [
    "cleaned_geo = []\n",
    "\n",
    "for tweet in query_df.geo:\n",
    "    cleaned_geo.append(p.clean(str(tweet)))\n",
    "\n",
    "query_df['cleaned_geo']=cleaned_geo\n"
   ]
  },
  {
   "cell_type": "code",
   "execution_count": 28,
   "metadata": {
    "scrolled": true
   },
   "outputs": [
    {
     "data": {
      "text/html": [
       "<div>\n",
       "<table border=\"1\" class=\"dataframe\">\n",
       "  <thead>\n",
       "    <tr style=\"text-align: right;\">\n",
       "      <th></th>\n",
       "      <th>geo</th>\n",
       "      <th>screen_name</th>\n",
       "      <th>text</th>\n",
       "      <th>cleaned_text</th>\n",
       "      <th>cleaned_name</th>\n",
       "      <th>cleaned_geo</th>\n",
       "    </tr>\n",
       "  </thead>\n",
       "  <tbody>\n",
       "    <tr>\n",
       "      <th>582</th>\n",
       "      <td>Cairo, Egypt</td>\n",
       "      <td>Gasser_Mo7amed</td>\n",
       "      <td>RT @Sam_ar_: انا في موود لو حد قالي ازيك هعيط</td>\n",
       "      <td>_ _ انا في موود لو حد قالي ازيك هعيط</td>\n",
       "      <td>Gasser_Mo7amed</td>\n",
       "      <td>Cairo, Egypt</td>\n",
       "    </tr>\n",
       "    <tr>\n",
       "      <th>163</th>\n",
       "      <td>Tanta</td>\n",
       "      <td>3ra2eeboo</td>\n",
       "      <td>@10_mennat اسخم واوسخ 😂😂\\nربنا معاكم يابنتى من...</td>\n",
       "      <td>_ اسخم واوسخ ربنا معاكم يابنتى من كتر المذاكرة...</td>\n",
       "      <td>ra2eeboo</td>\n",
       "      <td>Tanta</td>\n",
       "    </tr>\n",
       "    <tr>\n",
       "      <th>309</th>\n",
       "      <td>,تحذفني_ احذفك#انقذ_حياه❤</td>\n",
       "      <td>E__top1</td>\n",
       "      <td>RT @azhary_50: = ازيك ياسطا عامل ايه \\n - لا ا...</td>\n",
       "      <td>_ = ازيك ياسطا عامل ايه - لا انجز خش ع المصلحه...</td>\n",
       "      <td>E__top1</td>\n",
       "      <td>,تحذفني_ احذفك</td>\n",
       "    </tr>\n",
       "    <tr>\n",
       "      <th>408</th>\n",
       "      <td>اى مكان فى موسيقى</td>\n",
       "      <td>loletaaa1234</td>\n",
       "      <td>RT @Sam_ar_: انا في موود لو حد قالي ازيك هعيط</td>\n",
       "      <td>_ _ انا في موود لو حد قالي ازيك هعيط</td>\n",
       "      <td>loletaaa1234</td>\n",
       "      <td>اى مكان فى موسيقى</td>\n",
       "    </tr>\n",
       "    <tr>\n",
       "      <th>141</th>\n",
       "      <td>القلعة</td>\n",
       "      <td>CaptinNamq</td>\n",
       "      <td>ازيك يا ابو صلاح ، الجمهور السعودي بيحبك وبنشج...</td>\n",
       "      <td>ازيك يا ابو صلاح ، الجمهور السعودي بيحبك وبنشج...</td>\n",
       "      <td>CaptinNamq</td>\n",
       "      <td>القلعة</td>\n",
       "    </tr>\n",
       "  </tbody>\n",
       "</table>\n",
       "</div>"
      ],
      "text/plain": [
       "                            geo     screen_name  \\\n",
       "582                Cairo, Egypt  Gasser_Mo7amed   \n",
       "163                      Tanta        3ra2eeboo   \n",
       "309   ,تحذفني_ احذفك#انقذ_حياه❤         E__top1   \n",
       "408           اى مكان فى موسيقى    loletaaa1234   \n",
       "141                      القلعة      CaptinNamq   \n",
       "\n",
       "                                                  text  \\\n",
       "582      RT @Sam_ar_: انا في موود لو حد قالي ازيك هعيط   \n",
       "163  @10_mennat اسخم واوسخ 😂😂\\nربنا معاكم يابنتى من...   \n",
       "309  RT @azhary_50: = ازيك ياسطا عامل ايه \\n - لا ا...   \n",
       "408      RT @Sam_ar_: انا في موود لو حد قالي ازيك هعيط   \n",
       "141  ازيك يا ابو صلاح ، الجمهور السعودي بيحبك وبنشج...   \n",
       "\n",
       "                                          cleaned_text    cleaned_name  \\\n",
       "582               _ _ انا في موود لو حد قالي ازيك هعيط  Gasser_Mo7amed   \n",
       "163  _ اسخم واوسخ ربنا معاكم يابنتى من كتر المذاكرة...        ra2eeboo   \n",
       "309  _ = ازيك ياسطا عامل ايه - لا انجز خش ع المصلحه...         E__top1   \n",
       "408               _ _ انا في موود لو حد قالي ازيك هعيط    loletaaa1234   \n",
       "141  ازيك يا ابو صلاح ، الجمهور السعودي بيحبك وبنشج...      CaptinNamq   \n",
       "\n",
       "           cleaned_geo  \n",
       "582       Cairo, Egypt  \n",
       "163              Tanta  \n",
       "309     ,تحذفني_ احذفك  \n",
       "408  اى مكان فى موسيقى  \n",
       "141             القلعة  "
      ]
     },
     "execution_count": 28,
     "metadata": {},
     "output_type": "execute_result"
    }
   ],
   "source": [
    "\n",
    "query_df.sample(5)"
   ]
  },
  {
   "cell_type": "markdown",
   "metadata": {},
   "source": [
    "### Remove duplicated tweets"
   ]
  },
  {
   "cell_type": "code",
   "execution_count": 29,
   "metadata": {},
   "outputs": [
    {
     "data": {
      "text/plain": [
       "182     True\n",
       "273    False\n",
       "11     False\n",
       "312    False\n",
       "492    False\n",
       "Name: cleaned_text, dtype: bool"
      ]
     },
     "execution_count": 29,
     "metadata": {},
     "output_type": "execute_result"
    }
   ],
   "source": [
    "query_df['cleaned_text'].duplicated().sample(5)"
   ]
  },
  {
   "cell_type": "code",
   "execution_count": 30,
   "metadata": {},
   "outputs": [],
   "source": [
    "query_cleaned = query_df.drop_duplicates(['cleaned_text'], keep='last')\n",
    "query_cleaned = query_cleaned.drop(['screen_name', 'text', 'geo'], axis=1)"
   ]
  },
  {
   "cell_type": "code",
   "execution_count": 32,
   "metadata": {
    "scrolled": true
   },
   "outputs": [
    {
     "data": {
      "text/html": [
       "<div>\n",
       "<table border=\"1\" class=\"dataframe\">\n",
       "  <thead>\n",
       "    <tr style=\"text-align: right;\">\n",
       "      <th></th>\n",
       "      <th>cleaned_text</th>\n",
       "      <th>cleaned_name</th>\n",
       "      <th>cleaned_geo</th>\n",
       "    </tr>\n",
       "  </thead>\n",
       "  <tbody>\n",
       "    <tr>\n",
       "      <th>429</th>\n",
       "      <td>ازيك مصطفي صباحك فل️</td>\n",
       "      <td>moustafakamelm</td>\n",
       "      <td>None</td>\n",
       "    </tr>\n",
       "    <tr>\n",
       "      <th>290</th>\n",
       "      <td>_ اكييد واللي ضاحك مين ازيك ياقلبي</td>\n",
       "      <td>Nnjoood2</td>\n",
       "      <td>None</td>\n",
       "    </tr>\n",
       "    <tr>\n",
       "      <th>71</th>\n",
       "      <td>_ هاي ازيك ما تعرفيش اماكن في مصر بتعرض رسومات...</td>\n",
       "      <td>ra2_281</td>\n",
       "      <td>None</td>\n",
       "    </tr>\n",
       "    <tr>\n",
       "      <th>314</th>\n",
       "      <td>_ = ازيك ياسطا عامل ايه - لا انجز خش ع المصلحه...</td>\n",
       "      <td>Melesia_achraaf</td>\n",
       "      <td>Cairo, Egypt</td>\n",
       "    </tr>\n",
       "  </tbody>\n",
       "</table>\n",
       "</div>"
      ],
      "text/plain": [
       "                                          cleaned_text     cleaned_name  \\\n",
       "429                               ازيك مصطفي صباحك فل️   moustafakamelm   \n",
       "290                 _ اكييد واللي ضاحك مين ازيك ياقلبي         Nnjoood2   \n",
       "71   _ هاي ازيك ما تعرفيش اماكن في مصر بتعرض رسومات...          ra2_281   \n",
       "314  _ = ازيك ياسطا عامل ايه - لا انجز خش ع المصلحه...  Melesia_achraaf   \n",
       "\n",
       "      cleaned_geo  \n",
       "429          None  \n",
       "290          None  \n",
       "71           None  \n",
       "314  Cairo, Egypt  "
      ]
     },
     "execution_count": 32,
     "metadata": {},
     "output_type": "execute_result"
    }
   ],
   "source": [
    "query_cleaned.sample(4)"
   ]
  },
  {
   "cell_type": "code",
   "execution_count": 35,
   "metadata": {},
   "outputs": [
    {
     "data": {
      "text/html": [
       "<div>\n",
       "<table border=\"1\" class=\"dataframe\">\n",
       "  <thead>\n",
       "    <tr style=\"text-align: right;\">\n",
       "      <th></th>\n",
       "      <th>cleaned_text</th>\n",
       "      <th>cleaned_name</th>\n",
       "      <th>cleaned_geo</th>\n",
       "    </tr>\n",
       "  </thead>\n",
       "  <tbody>\n",
       "    <tr>\n",
       "      <th>0</th>\n",
       "      <td>ازيك صباح الفل</td>\n",
       "      <td>D38647416</td>\n",
       "      <td>None</td>\n",
       "    </tr>\n",
       "    <tr>\n",
       "      <th>1</th>\n",
       "      <td>_ _ هلا فيك ازيك</td>\n",
       "      <td>_llin</td>\n",
       "      <td></td>\n",
       "    </tr>\n",
       "    <tr>\n",
       "      <th>3</th>\n",
       "      <td>اللهم آمين آمين آمين ازيك يارب تكون في احسن حال</td>\n",
       "      <td>MohammedTalaat1</td>\n",
       "      <td>القاهرة, مصر</td>\n",
       "    </tr>\n",
       "    <tr>\n",
       "      <th>4</th>\n",
       "      <td>ازيك يا ادهم سليمان —</td>\n",
       "      <td>mohmedelhnawy24</td>\n",
       "      <td>None</td>\n",
       "    </tr>\n",
       "    <tr>\n",
       "      <th>5</th>\n",
       "      <td>محمد علي ازيك</td>\n",
       "      <td>s_ss3</td>\n",
       "      <td>بولندا</td>\n",
       "    </tr>\n",
       "    <tr>\n",
       "      <th>6</th>\n",
       "      <td>لما البنت اللي بتحبها تكون واقفه مع ابوها وانت...</td>\n",
       "      <td>adoom101</td>\n",
       "      <td>الاسكندرية</td>\n",
       "    </tr>\n",
       "    <tr>\n",
       "      <th>7</th>\n",
       "      <td>ازيك يا محمد قلقتني عليك بشدة اختفائك ؟</td>\n",
       "      <td>Hazem__Azim</td>\n",
       "      <td>Cairo</td>\n",
       "    </tr>\n",
       "    <tr>\n",
       "      <th>8</th>\n",
       "      <td>__ ازيك يا محمد قلقتني عليك بشدة اختفائك ؟</td>\n",
       "      <td>mzeezm131</td>\n",
       "      <td>None</td>\n",
       "    </tr>\n",
       "    <tr>\n",
       "      <th>9</th>\n",
       "      <td>ازيك يا احلي وزه اعمل حسابك تيجيلي كل يوم الاو...</td>\n",
       "      <td>ZZeko1997</td>\n",
       "      <td>None</td>\n",
       "    </tr>\n",
       "    <tr>\n",
       "      <th>10</th>\n",
       "      <td>_ ازيك يامى</td>\n",
       "      <td>PwxRJC67w6wcykP</td>\n",
       "      <td>None</td>\n",
       "    </tr>\n",
       "    <tr>\n",
       "      <th>12</th>\n",
       "      <td>السلام عليكم ازيك يا كابتن ربنا يوفقك كنت عاوز...</td>\n",
       "      <td>Mohamed1112216</td>\n",
       "      <td>الأسكندرية, مصر</td>\n",
       "    </tr>\n",
       "    <tr>\n",
       "      <th>13</th>\n",
       "      <td>_ _ ازيك يا كسمك لما انت مش راجل وخول زيك زي خ...</td>\n",
       "      <td>Wael_Awad2</td>\n",
       "      <td>Tanta Egypt</td>\n",
       "    </tr>\n",
       "    <tr>\n",
       "      <th>14</th>\n",
       "      <td>_ ازيك مش ازيك</td>\n",
       "      <td>ganna701</td>\n",
       "      <td>El Monofia, Egypt</td>\n",
       "    </tr>\n",
       "    <tr>\n",
       "      <th>15</th>\n",
       "      <td>ازيك ؟ عامله ايه ؟ وحشتنا وحشنا هزارك وكلامك غ...</td>\n",
       "      <td>Kingof_sense</td>\n",
       "      <td>None</td>\n",
       "    </tr>\n",
       "    <tr>\n",
       "      <th>16</th>\n",
       "      <td>ازيك يا ملوكة واراي ماما دلوقتي ؟</td>\n",
       "      <td>mona_gendy</td>\n",
       "      <td>Cairo , Egypt</td>\n",
       "    </tr>\n",
       "    <tr>\n",
       "      <th>17</th>\n",
       "      <td>هيوق هيوق هيوق</td>\n",
       "      <td>Omar_aalsaied</td>\n",
       "      <td>Ciudad Real, Spain</td>\n",
       "    </tr>\n",
       "    <tr>\n",
       "      <th>18</th>\n",
       "      <td>صباحي مدام دودو ️ ازيك</td>\n",
       "      <td>bnootah_16</td>\n",
       "      <td>None</td>\n",
       "    </tr>\n",
       "    <tr>\n",
       "      <th>19</th>\n",
       "      <td>حاجة ازيك</td>\n",
       "      <td>a4a49999</td>\n",
       "      <td>None</td>\n",
       "    </tr>\n",
       "    <tr>\n",
       "      <th>20</th>\n",
       "      <td>بوصى هو الشخصية اللى بكلمك عنها دى عصبية جدا و...</td>\n",
       "      <td>drnaremanetman</td>\n",
       "      <td>Mansoura</td>\n",
       "    </tr>\n",
       "    <tr>\n",
       "      <th>22</th>\n",
       "      <td>ازيك يافايز</td>\n",
       "      <td>ahmdhedr311</td>\n",
       "      <td>المملكة العربية السعودية</td>\n",
       "    </tr>\n",
       "    <tr>\n",
       "      <th>25</th>\n",
       "      <td>هلاا بك نايف ازيك ي قميل</td>\n",
       "      <td>aleid_t</td>\n",
       "      <td>الدمام</td>\n",
       "    </tr>\n",
       "    <tr>\n",
       "      <th>27</th>\n",
       "      <td>حتى ازيك مستخسرها مستكترها مابيقولهاش</td>\n",
       "      <td>The_O_Power</td>\n",
       "      <td>Germany</td>\n",
       "    </tr>\n",
       "    <tr>\n",
       "      <th>29</th>\n",
       "      <td>ازيك انتى بتعلمينى الصبر على البلاء افتكرى ده</td>\n",
       "      <td>Ibrahim1991116</td>\n",
       "      <td>El Behera, Egypt</td>\n",
       "    </tr>\n",
       "    <tr>\n",
       "      <th>30</th>\n",
       "      <td>حتى ازيك مستخسرها العرص مبيقولهاش</td>\n",
       "      <td>mariamshaker221</td>\n",
       "      <td>None</td>\n",
       "    </tr>\n",
       "    <tr>\n",
       "      <th>31</th>\n",
       "      <td>ازيك ي اخو</td>\n",
       "      <td>AhmedZagloul5</td>\n",
       "      <td>اخر الدنيا</td>\n",
       "    </tr>\n",
       "    <tr>\n",
       "      <th>32</th>\n",
       "      <td>ازيك يابوبي</td>\n",
       "      <td>q5Z9vfeHMSpLCE4</td>\n",
       "      <td>في ارض الله الواسعه</td>\n",
       "    </tr>\n",
       "    <tr>\n",
       "      <th>36</th>\n",
       "      <td>بقلق اووي لما ألاقي بنت معرفهاش تقولي ازيك او هاي</td>\n",
       "      <td>shymaayussef</td>\n",
       "      <td>mansoura . egypt</td>\n",
       "    </tr>\n",
       "    <tr>\n",
       "      <th>37</th>\n",
       "      <td>ازيك كدا — الحمد لله تمام ️️</td>\n",
       "      <td>zahraamohamd76</td>\n",
       "      <td>None</td>\n",
       "    </tr>\n",
       "    <tr>\n",
       "      <th>38</th>\n",
       "      <td>*رايحه ازور عمتى* ازيك ياعمتو اخبارك وحشانى با...</td>\n",
       "      <td>MenNa_S_Radwan</td>\n",
       "      <td>Alexandria,Egypt</td>\n",
       "    </tr>\n",
       "    <tr>\n",
       "      <th>39</th>\n",
       "      <td>هههههههههه ازيك يا دكتور علاء بسيطة</td>\n",
       "      <td>HaythamAyman6</td>\n",
       "      <td>None</td>\n",
       "    </tr>\n",
       "    <tr>\n",
       "      <th>...</th>\n",
       "      <td>...</td>\n",
       "      <td>...</td>\n",
       "      <td>...</td>\n",
       "    </tr>\n",
       "    <tr>\n",
       "      <th>532</th>\n",
       "      <td>ازيك يا محمد ياصلاح يا عالمي ربنا بوفقك انا ول...</td>\n",
       "      <td>Shadyga94945301</td>\n",
       "      <td>None</td>\n",
       "    </tr>\n",
       "    <tr>\n",
       "      <th>533</th>\n",
       "      <td>_ بتفتحوا مواضيع ازاي بتعملوها ازاي ياكفرة</td>\n",
       "      <td>safa2001gam</td>\n",
       "      <td>مَـ ع ـــآاک دايمــٰــآاا</td>\n",
       "    </tr>\n",
       "    <tr>\n",
       "      <th>539</th>\n",
       "      <td>_ بتسأله قبل ميتقالي ازيك حتي</td>\n",
       "      <td>yara_housam</td>\n",
       "      <td>None</td>\n",
       "    </tr>\n",
       "    <tr>\n",
       "      <th>541</th>\n",
       "      <td>ازيك اخبارك ايه فينك وفين تويتاتك مختفيه من ع ...</td>\n",
       "      <td>Reaoooooo</td>\n",
       "      <td>cairo</td>\n",
       "    </tr>\n",
       "    <tr>\n",
       "      <th>542</th>\n",
       "      <td>يا عز يا صديقي الجميل كل سنه وانت بخير وسعادة ...</td>\n",
       "      <td>dody_a7mad1</td>\n",
       "      <td>القاهرة, مصر</td>\n",
       "    </tr>\n",
       "    <tr>\n",
       "      <th>546</th>\n",
       "      <td>ازيك والحج عبدوو هو والعيال</td>\n",
       "      <td>Vip__smsm</td>\n",
       "      <td>zag</td>\n",
       "    </tr>\n",
       "    <tr>\n",
       "      <th>548</th>\n",
       "      <td>ازيك يا محمود</td>\n",
       "      <td>MahmouddTawfeek</td>\n",
       "      <td>Mansoura</td>\n",
       "    </tr>\n",
       "    <tr>\n",
       "      <th>549</th>\n",
       "      <td>ازيك وازي امك</td>\n",
       "      <td>emanweel11</td>\n",
       "      <td>غيمة إيجار ️</td>\n",
       "    </tr>\n",
       "    <tr>\n",
       "      <th>551</th>\n",
       "      <td>__ لما تبقى بتكلمى واحد وفجأة تلاقيه ادى الموب...</td>\n",
       "      <td>sosoomar94</td>\n",
       "      <td>الجيزة, مصر</td>\n",
       "    </tr>\n",
       "    <tr>\n",
       "      <th>553</th>\n",
       "      <td>_ اهلا اهلا اهلا ازيك وازي مصر ، وحشتنا ياراجل</td>\n",
       "      <td>luxu2016</td>\n",
       "      <td>Jeddah, مدينة الحالمين</td>\n",
       "    </tr>\n",
       "    <tr>\n",
       "      <th>555</th>\n",
       "      <td>_ ازيك ؟ عامله ايه ؟ وحشتنا وحشنا هزارك وكلامك...</td>\n",
       "      <td>luxu2016</td>\n",
       "      <td>Jeddah, مدينة الحالمين</td>\n",
       "    </tr>\n",
       "    <tr>\n",
       "      <th>556</th>\n",
       "      <td>ازيك ياله عامل واخبارك ايه انت غاطس فين</td>\n",
       "      <td>sleemslaam2</td>\n",
       "      <td>None</td>\n",
       "    </tr>\n",
       "    <tr>\n",
       "      <th>560</th>\n",
       "      <td>مصطفى ازيك ارتفع اسعار دخان في مصر؟ ياخي رفعوه...</td>\n",
       "      <td>Salebb7</td>\n",
       "      <td>المملكة العربية السعودية</td>\n",
       "    </tr>\n",
       "    <tr>\n",
       "      <th>561</th>\n",
       "      <td>مرة شوية رز حبو يسلمو على مديرهم قالوله ازيك ي...</td>\n",
       "      <td>Reem49109400</td>\n",
       "      <td>El Sharkia, Egypt</td>\n",
       "    </tr>\n",
       "    <tr>\n",
       "      <th>562</th>\n",
       "      <td>بناقص كلمة ازيك لو بتقولوها عشان تبقوا عملتوا ...</td>\n",
       "      <td>abdOu_mOhamed74</td>\n",
       "      <td>mazazZik</td>\n",
       "    </tr>\n",
       "    <tr>\n",
       "      <th>571</th>\n",
       "      <td>_ حقولك ازيك من قلبى</td>\n",
       "      <td>ABDOU6012</td>\n",
       "      <td>الأسكندرية, مصر</td>\n",
       "    </tr>\n",
       "    <tr>\n",
       "      <th>598</th>\n",
       "      <td>يمكن دي اول مره اتكلم عن الصحاب الصحاب ال بقوا...</td>\n",
       "      <td>elhalwasawyyyyy</td>\n",
       "      <td>None</td>\n",
       "    </tr>\n",
       "    <tr>\n",
       "      <th>600</th>\n",
       "      <td>هشخر</td>\n",
       "      <td>shadymohsen389</td>\n",
       "      <td>Aswan, Egypt</td>\n",
       "    </tr>\n",
       "    <tr>\n",
       "      <th>604</th>\n",
       "      <td>انا الفترة ديه مخنوقة لدرجة لو حد قالي ازيك حعيط</td>\n",
       "      <td>Soouukii</td>\n",
       "      <td>None</td>\n",
       "    </tr>\n",
       "    <tr>\n",
       "      <th>610</th>\n",
       "      <td>ازيك — الحمدلله</td>\n",
       "      <td>Mahmoud7113</td>\n",
       "      <td>Assiut</td>\n",
       "    </tr>\n",
       "    <tr>\n",
       "      <th>613</th>\n",
       "      <td>طب ازيك ماترررد علينا في عنينا بحور الاشواق</td>\n",
       "      <td>MoAllam7</td>\n",
       "      <td>None</td>\n",
       "    </tr>\n",
       "    <tr>\n",
       "      <th>617</th>\n",
       "      <td>(الساعه ) ازيك يا محمود' لا محمود إيه ،قوليلي ...</td>\n",
       "      <td>mahhmoud0</td>\n",
       "      <td>شبراااوى</td>\n",
       "    </tr>\n",
       "    <tr>\n",
       "      <th>620</th>\n",
       "      <td>اختي تطلب السواق يجيلها ولما تدخل عليه تقوله ا...</td>\n",
       "      <td>ugi_urr</td>\n",
       "      <td>أبوظبي</td>\n",
       "    </tr>\n",
       "    <tr>\n",
       "      <th>621</th>\n",
       "      <td>يا من اقسمت انك لن ترحل ورحلت ازيك و ازي امك؟</td>\n",
       "      <td>JameelEzz15</td>\n",
       "      <td>None</td>\n",
       "    </tr>\n",
       "    <tr>\n",
       "      <th>622</th>\n",
       "      <td>_ _ انا في موود لو حد قالي ازيك هعيط</td>\n",
       "      <td>nour_elkassab</td>\n",
       "      <td>Mansoura</td>\n",
       "    </tr>\n",
       "    <tr>\n",
       "      <th>626</th>\n",
       "      <td>ازيك ي باشا</td>\n",
       "      <td>elmonshare7</td>\n",
       "      <td>طنطا ام الدنيا ^^</td>\n",
       "    </tr>\n",
       "    <tr>\n",
       "      <th>629</th>\n",
       "      <td>_ بناقص كلمة ازيك لو بتقولوها عشان تبقوا عملتو...</td>\n",
       "      <td>Aya_3mr</td>\n",
       "      <td>Egypt</td>\n",
       "    </tr>\n",
       "    <tr>\n",
       "      <th>630</th>\n",
       "      <td>امسحي رقمي واعمليلي بلوك ولا عرفتك ب يوم من حي...</td>\n",
       "      <td>Lujain_khalid12</td>\n",
       "      <td>Jordan, Saudi arabia</td>\n",
       "    </tr>\n",
       "    <tr>\n",
       "      <th>631</th>\n",
       "      <td>_ امسحي رقمي واعمليلي بلوك ولا عرفتك ب يوم من ...</td>\n",
       "      <td>lamees_saleh2</td>\n",
       "      <td>AL_ZARQA AL_SUKHNAH</td>\n",
       "    </tr>\n",
       "    <tr>\n",
       "      <th>632</th>\n",
       "      <td>- ازيك ، فاكراني ؟ - اه طبعًا هي الأشكال الوسخ...</td>\n",
       "      <td>Samar_merghani</td>\n",
       "      <td>مصر</td>\n",
       "    </tr>\n",
       "  </tbody>\n",
       "</table>\n",
       "<p>313 rows × 3 columns</p>\n",
       "</div>"
      ],
      "text/plain": [
       "                                          cleaned_text     cleaned_name  \\\n",
       "0                                       ازيك صباح الفل        D38647416   \n",
       "1                                     _ _ هلا فيك ازيك            _llin   \n",
       "3      اللهم آمين آمين آمين ازيك يارب تكون في احسن حال  MohammedTalaat1   \n",
       "4                                ازيك يا ادهم سليمان —  mohmedelhnawy24   \n",
       "5                                        محمد علي ازيك            s_ss3   \n",
       "6    لما البنت اللي بتحبها تكون واقفه مع ابوها وانت...         adoom101   \n",
       "7              ازيك يا محمد قلقتني عليك بشدة اختفائك ؟      Hazem__Azim   \n",
       "8           __ ازيك يا محمد قلقتني عليك بشدة اختفائك ؟        mzeezm131   \n",
       "9    ازيك يا احلي وزه اعمل حسابك تيجيلي كل يوم الاو...        ZZeko1997   \n",
       "10                                         _ ازيك يامى  PwxRJC67w6wcykP   \n",
       "12   السلام عليكم ازيك يا كابتن ربنا يوفقك كنت عاوز...   Mohamed1112216   \n",
       "13   _ _ ازيك يا كسمك لما انت مش راجل وخول زيك زي خ...       Wael_Awad2   \n",
       "14                                      _ ازيك مش ازيك         ganna701   \n",
       "15   ازيك ؟ عامله ايه ؟ وحشتنا وحشنا هزارك وكلامك غ...     Kingof_sense   \n",
       "16                   ازيك يا ملوكة واراي ماما دلوقتي ؟       mona_gendy   \n",
       "17                                      هيوق هيوق هيوق    Omar_aalsaied   \n",
       "18                              صباحي مدام دودو ️ ازيك       bnootah_16   \n",
       "19                                           حاجة ازيك         a4a49999   \n",
       "20   بوصى هو الشخصية اللى بكلمك عنها دى عصبية جدا و...   drnaremanetman   \n",
       "22                                         ازيك يافايز      ahmdhedr311   \n",
       "25                            هلاا بك نايف ازيك ي قميل          aleid_t   \n",
       "27               حتى ازيك مستخسرها مستكترها مابيقولهاش      The_O_Power   \n",
       "29       ازيك انتى بتعلمينى الصبر على البلاء افتكرى ده   Ibrahim1991116   \n",
       "30                   حتى ازيك مستخسرها العرص مبيقولهاش  mariamshaker221   \n",
       "31                                          ازيك ي اخو    AhmedZagloul5   \n",
       "32                                         ازيك يابوبي  q5Z9vfeHMSpLCE4   \n",
       "36   بقلق اووي لما ألاقي بنت معرفهاش تقولي ازيك او هاي     shymaayussef   \n",
       "37                        ازيك كدا — الحمد لله تمام ️️   zahraamohamd76   \n",
       "38   *رايحه ازور عمتى* ازيك ياعمتو اخبارك وحشانى با...   MenNa_S_Radwan   \n",
       "39                 هههههههههه ازيك يا دكتور علاء بسيطة    HaythamAyman6   \n",
       "..                                                 ...              ...   \n",
       "532  ازيك يا محمد ياصلاح يا عالمي ربنا بوفقك انا ول...  Shadyga94945301   \n",
       "533         _ بتفتحوا مواضيع ازاي بتعملوها ازاي ياكفرة      safa2001gam   \n",
       "539                      _ بتسأله قبل ميتقالي ازيك حتي      yara_housam   \n",
       "541  ازيك اخبارك ايه فينك وفين تويتاتك مختفيه من ع ...        Reaoooooo   \n",
       "542  يا عز يا صديقي الجميل كل سنه وانت بخير وسعادة ...      dody_a7mad1   \n",
       "546                        ازيك والحج عبدوو هو والعيال        Vip__smsm   \n",
       "548                                      ازيك يا محمود  MahmouddTawfeek   \n",
       "549                                      ازيك وازي امك       emanweel11   \n",
       "551  __ لما تبقى بتكلمى واحد وفجأة تلاقيه ادى الموب...       sosoomar94   \n",
       "553     _ اهلا اهلا اهلا ازيك وازي مصر ، وحشتنا ياراجل         luxu2016   \n",
       "555  _ ازيك ؟ عامله ايه ؟ وحشتنا وحشنا هزارك وكلامك...         luxu2016   \n",
       "556            ازيك ياله عامل واخبارك ايه انت غاطس فين      sleemslaam2   \n",
       "560  مصطفى ازيك ارتفع اسعار دخان في مصر؟ ياخي رفعوه...          Salebb7   \n",
       "561  مرة شوية رز حبو يسلمو على مديرهم قالوله ازيك ي...     Reem49109400   \n",
       "562  بناقص كلمة ازيك لو بتقولوها عشان تبقوا عملتوا ...  abdOu_mOhamed74   \n",
       "571                               _ حقولك ازيك من قلبى        ABDOU6012   \n",
       "598  يمكن دي اول مره اتكلم عن الصحاب الصحاب ال بقوا...  elhalwasawyyyyy   \n",
       "600                                               هشخر   shadymohsen389   \n",
       "604   انا الفترة ديه مخنوقة لدرجة لو حد قالي ازيك حعيط         Soouukii   \n",
       "610                                    ازيك — الحمدلله      Mahmoud7113   \n",
       "613        طب ازيك ماترررد علينا في عنينا بحور الاشواق         MoAllam7   \n",
       "617  (الساعه ) ازيك يا محمود' لا محمود إيه ،قوليلي ...        mahhmoud0   \n",
       "620  اختي تطلب السواق يجيلها ولما تدخل عليه تقوله ا...          ugi_urr   \n",
       "621      يا من اقسمت انك لن ترحل ورحلت ازيك و ازي امك؟      JameelEzz15   \n",
       "622               _ _ انا في موود لو حد قالي ازيك هعيط    nour_elkassab   \n",
       "626                                        ازيك ي باشا      elmonshare7   \n",
       "629  _ بناقص كلمة ازيك لو بتقولوها عشان تبقوا عملتو...          Aya_3mr   \n",
       "630  امسحي رقمي واعمليلي بلوك ولا عرفتك ب يوم من حي...  Lujain_khalid12   \n",
       "631  _ امسحي رقمي واعمليلي بلوك ولا عرفتك ب يوم من ...    lamees_saleh2   \n",
       "632  - ازيك ، فاكراني ؟ - اه طبعًا هي الأشكال الوسخ...   Samar_merghani   \n",
       "\n",
       "                   cleaned_geo  \n",
       "0                         None  \n",
       "1                               \n",
       "3                 القاهرة, مصر  \n",
       "4                         None  \n",
       "5                       بولندا  \n",
       "6                   الاسكندرية  \n",
       "7                        Cairo  \n",
       "8                         None  \n",
       "9                         None  \n",
       "10                        None  \n",
       "12             الأسكندرية, مصر  \n",
       "13                 Tanta Egypt  \n",
       "14           El Monofia, Egypt  \n",
       "15                        None  \n",
       "16               Cairo , Egypt  \n",
       "17          Ciudad Real, Spain  \n",
       "18                        None  \n",
       "19                        None  \n",
       "20                    Mansoura  \n",
       "22    المملكة العربية السعودية  \n",
       "25                      الدمام  \n",
       "27                     Germany  \n",
       "29            El Behera, Egypt  \n",
       "30                        None  \n",
       "31                  اخر الدنيا  \n",
       "32         في ارض الله الواسعه  \n",
       "36            mansoura . egypt  \n",
       "37                        None  \n",
       "38            Alexandria,Egypt  \n",
       "39                        None  \n",
       "..                         ...  \n",
       "532                       None  \n",
       "533  مَـ ع ـــآاک دايمــٰــآاا  \n",
       "539                       None  \n",
       "541                      cairo  \n",
       "542               القاهرة, مصر  \n",
       "546                        zag  \n",
       "548                   Mansoura  \n",
       "549               غيمة إيجار ️  \n",
       "551                الجيزة, مصر  \n",
       "553     Jeddah, مدينة الحالمين  \n",
       "555     Jeddah, مدينة الحالمين  \n",
       "556                       None  \n",
       "560   المملكة العربية السعودية  \n",
       "561          El Sharkia, Egypt  \n",
       "562                   mazazZik  \n",
       "571            الأسكندرية, مصر  \n",
       "598                       None  \n",
       "600               Aswan, Egypt  \n",
       "604                       None  \n",
       "610                     Assiut  \n",
       "613                       None  \n",
       "617                   شبراااوى  \n",
       "620                     أبوظبي  \n",
       "621                       None  \n",
       "622                   Mansoura  \n",
       "626          طنطا ام الدنيا ^^  \n",
       "629                      Egypt  \n",
       "630       Jordan, Saudi arabia  \n",
       "631        AL_ZARQA AL_SUKHNAH  \n",
       "632                        مصر  \n",
       "\n",
       "[313 rows x 3 columns]"
      ]
     },
     "execution_count": 35,
     "metadata": {},
     "output_type": "execute_result"
    }
   ],
   "source": [
    "query_cleaned.fillna('None')"
   ]
  },
  {
   "cell_type": "code",
   "execution_count": 36,
   "metadata": {},
   "outputs": [
    {
     "name": "stdout",
     "output_type": "stream",
     "text": [
      "<class 'pandas.core.frame.DataFrame'>\n",
      "Int64Index: 330 entries, 0 to 632\n",
      "Data columns (total 3 columns):\n",
      "cleaned_text    330 non-null object\n",
      "cleaned_name    330 non-null object\n",
      "cleaned_geo     330 non-null object\n",
      "dtypes: object(3)\n",
      "memory usage: 10.3+ KB\n"
     ]
    }
   ],
   "source": [
    "query_cleaned.info() "
   ]
  },
  {
   "cell_type": "markdown",
   "metadata": {},
   "source": [
    "### Consolidate different geo tags"
   ]
  },
  {
   "cell_type": "code",
   "execution_count": 37,
   "metadata": {},
   "outputs": [],
   "source": [
    "locations = {'Saudi Arabia': ['Kingdom of Saudi Arabia', 'MAKKAH', 'saudi arabia', 'jeddah', 'مكة المكرمة', 'المملكة العربية', 'Jeddah', 'Riyadh', 'المملكة العربية السعودية', 'الرياض, المملكة العربية السعودية', 'الرياض, المملكة العربية السعودية', 'jeddah , saudi arabia', 'الرياض', 'آلقصيم ، بريده', 'جدة, المملكة العربية السعودية', 'المدينة المنورة, المملكة العربية السعودية', 'Riyadh, Kingdom of Saudi Arabia', 'makkah - saudi arabia', 'جده', 'Dammam', 'Dammam, Eastern', 'Al Khobar, Kingdom of Saudi Arabia'],\n",
    "             'Kuwait': ['الكويت', 'Alkuwait', 'kuwait', 'KUWAIT', 'Kuwait , Salwa', 'Qortuba, Kuwait', 'دولة الكويت', 'العاصمه, دولة الكويت', 'The Capital, Kuwait', 'Al Salam, Kuwait', 'Salwa, Kuwait', 'كوكب الشرق - Kuwait'],\n",
    "             'Egypt': ['Domiat, Egypt', 'Damitta', 'Alexandria, Egypt', 'Damitta-Egypt', 'Giza, Egypt', 'New damieta city', 'مصر', 'القاهرة, مصر', 'El Behera, Egypt', 'الجيزة, مصر', 'Elmansoura', 'El Menia, Egypt', 'El Qaliobia, Egypt', 'البحيرة, مصر', 'Domyat elgadeda', 'El Sharkia, Egypt', 'sharkia_fakous', 'Cairo, Egypt', 'Alexandria,Egypt', 'ELsharkia , Egypt', 'شمال سيناء, مصر', 'كفر الشيخ, مصر', 'Port Said, Egypt', 'Beni Suef, Egypt', 'القليوبية, مصر', 'بنها']\n",
    "            }"
   ]
  },
  {
   "cell_type": "code",
   "execution_count": 38,
   "metadata": {},
   "outputs": [
    {
     "data": {
      "text/plain": [
       "True"
      ]
     },
     "execution_count": 38,
     "metadata": {},
     "output_type": "execute_result"
    }
   ],
   "source": [
    "'MAKKAH' in list(locations.values())[0]"
   ]
  },
  {
   "cell_type": "code",
   "execution_count": 39,
   "metadata": {},
   "outputs": [
    {
     "data": {
      "text/plain": [
       "False"
      ]
     },
     "execution_count": 39,
     "metadata": {},
     "output_type": "execute_result"
    }
   ],
   "source": [
    "'MAKKAH' in list(locations.values())[1]"
   ]
  },
  {
   "cell_type": "code",
   "execution_count": 40,
   "metadata": {},
   "outputs": [
    {
     "data": {
      "text/plain": [
       "dict_values([['Kingdom of Saudi Arabia', 'MAKKAH', 'saudi arabia', 'jeddah', 'مكة المكرمة', 'المملكة العربية', 'Jeddah', 'Riyadh', 'المملكة العربية السعودية', 'الرياض, المملكة العربية السعودية', 'الرياض, المملكة العربية السعودية', 'jeddah , saudi arabia', 'الرياض', 'آلقصيم ، بريده', 'جدة, المملكة العربية السعودية', 'المدينة المنورة, المملكة العربية السعودية', 'Riyadh, Kingdom of Saudi Arabia', 'makkah - saudi arabia', 'جده', 'Dammam', 'Dammam, Eastern', 'Al Khobar, Kingdom of Saudi Arabia'], ['الكويت', 'Alkuwait', 'kuwait', 'KUWAIT', 'Kuwait , Salwa', 'Qortuba, Kuwait', 'دولة الكويت', 'العاصمه, دولة الكويت', 'The Capital, Kuwait', 'Al Salam, Kuwait', 'Salwa, Kuwait', 'كوكب الشرق - Kuwait'], ['Domiat, Egypt', 'Damitta', 'Alexandria, Egypt', 'Damitta-Egypt', 'Giza, Egypt', 'New damieta city', 'مصر', 'القاهرة, مصر', 'El Behera, Egypt', 'الجيزة, مصر', 'Elmansoura', 'El Menia, Egypt', 'El Qaliobia, Egypt', 'البحيرة, مصر', 'Domyat elgadeda', 'El Sharkia, Egypt', 'sharkia_fakous', 'Cairo, Egypt', 'Alexandria,Egypt', 'ELsharkia , Egypt', 'شمال سيناء, مصر', 'كفر الشيخ, مصر', 'Port Said, Egypt', 'Beni Suef, Egypt', 'القليوبية, مصر', 'بنها']])"
      ]
     },
     "execution_count": 40,
     "metadata": {},
     "output_type": "execute_result"
    }
   ],
   "source": [
    "locations.values()"
   ]
  },
  {
   "cell_type": "code",
   "execution_count": 41,
   "metadata": {},
   "outputs": [],
   "source": [
    "for word in query_cleaned['cleaned_geo'].str.split('_'):\n",
    "    if word[0] in list(locations.values())[0]:\n",
    "        query_cleaned['cleaned_geo'].replace(word, 'Saudi Arabia', inplace=True)\n",
    "    elif word[0] in list(locations.values())[1]:\n",
    "            query_cleaned['cleaned_geo'].replace(word, 'Kuwait', inplace=True)\n",
    "    else:\n",
    "        if word[0] in list(locations.values())[2]:\n",
    "            query_cleaned['cleaned_geo'].replace(word, 'Egypt', inplace=True)\n",
    "            "
   ]
  },
  {
   "cell_type": "code",
   "execution_count": 43,
   "metadata": {},
   "outputs": [
    {
     "data": {
      "text/html": [
       "<div>\n",
       "<table border=\"1\" class=\"dataframe\">\n",
       "  <thead>\n",
       "    <tr style=\"text-align: right;\">\n",
       "      <th></th>\n",
       "      <th>cleaned_text</th>\n",
       "      <th>cleaned_name</th>\n",
       "      <th>cleaned_geo</th>\n",
       "    </tr>\n",
       "  </thead>\n",
       "  <tbody>\n",
       "    <tr>\n",
       "      <th>429</th>\n",
       "      <td>: ازيك مصطفي صباحك فل️</td>\n",
       "      <td>moustafakamelm</td>\n",
       "      <td>None</td>\n",
       "    </tr>\n",
       "    <tr>\n",
       "      <th>449</th>\n",
       "      <td>: مرة شوية رز حبو يسلمو على مديرهم قالوله ازيك...</td>\n",
       "      <td>rahafbadarneh</td>\n",
       "      <td>المملكة الأردنية الهاشمية</td>\n",
       "    </tr>\n",
       "    <tr>\n",
       "      <th>367</th>\n",
       "      <td>: ازيك و أزي المدام و الولاد</td>\n",
       "      <td>sanaasan333</td>\n",
       "      <td>None</td>\n",
       "    </tr>\n",
       "    <tr>\n",
       "      <th>472</th>\n",
       "      <td>حتى ازيك مستخسرها مستخسرها مبيقولهاش</td>\n",
       "      <td>KhaledG06308330</td>\n",
       "      <td>mansoura</td>\n",
       "    </tr>\n",
       "    <tr>\n",
       "      <th>125</th>\n",
       "      <td>ازيك يا اتش كيفك</td>\n",
       "      <td>wLsRdyB6q14ke8x</td>\n",
       "      <td>None</td>\n",
       "    </tr>\n",
       "  </tbody>\n",
       "</table>\n",
       "</div>"
      ],
      "text/plain": [
       "                                          cleaned_text     cleaned_name  \\\n",
       "429                             : ازيك مصطفي صباحك فل️   moustafakamelm   \n",
       "449  : مرة شوية رز حبو يسلمو على مديرهم قالوله ازيك...    rahafbadarneh   \n",
       "367                       : ازيك و أزي المدام و الولاد      sanaasan333   \n",
       "472               حتى ازيك مستخسرها مستخسرها مبيقولهاش  KhaledG06308330   \n",
       "125                                   ازيك يا اتش كيفك  wLsRdyB6q14ke8x   \n",
       "\n",
       "                   cleaned_geo  \n",
       "429                       None  \n",
       "449  المملكة الأردنية الهاشمية  \n",
       "367                       None  \n",
       "472                   mansoura  \n",
       "125                       None  "
      ]
     },
     "execution_count": 43,
     "metadata": {},
     "output_type": "execute_result"
    }
   ],
   "source": [
    "query_cleaned.sample(5)"
   ]
  },
  {
   "cell_type": "markdown",
   "metadata": {},
   "source": [
    "### Pickle to conduct EDA in seperate notebook"
   ]
  },
  {
   "cell_type": "code",
   "execution_count": 1,
   "metadata": {},
   "outputs": [
    {
     "data": {
      "text/plain": [
       "'/home/jovyan/capstone-34/34.210.104.115/misc'"
      ]
     },
     "execution_count": 1,
     "metadata": {},
     "output_type": "execute_result"
    }
   ],
   "source": [
    "pwd"
   ]
  },
  {
   "cell_type": "code",
   "execution_count": 44,
   "metadata": {},
   "outputs": [],
   "source": [
    "query_cleaned.to_pickle('../eg_twitter_pickled/stream_ازيك.p')"
   ]
  }
 ],
 "metadata": {
  "kernelspec": {
   "display_name": "Python 3",
   "language": "python",
   "name": "python3"
  },
  "language_info": {
   "codemirror_mode": {
    "name": "ipython",
    "version": 3
   },
   "file_extension": ".py",
   "mimetype": "text/x-python",
   "name": "python",
   "nbconvert_exporter": "python",
   "pygments_lexer": "ipython3",
   "version": "3.6.3"
  }
 },
 "nbformat": 4,
 "nbformat_minor": 2
}
