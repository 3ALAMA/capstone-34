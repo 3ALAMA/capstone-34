{
 "cells": [
  {
   "cell_type": "code",
   "execution_count": null,
   "metadata": {},
   "outputs": [],
   "source": [
    "#!pip install tweet-preprocessor"
   ]
  },
  {
   "cell_type": "code",
   "execution_count": 10,
   "metadata": {},
   "outputs": [],
   "source": [
    "import preprocessor as p"
   ]
  },
  {
   "cell_type": "code",
   "execution_count": 137,
   "metadata": {},
   "outputs": [],
   "source": [
    "import pandas as pd\n",
    "import json\n",
    "import re"
   ]
  },
  {
   "cell_type": "code",
   "execution_count": 105,
   "metadata": {
    "scrolled": true
   },
   "outputs": [
    {
     "data": {
      "text/plain": [
       "'/home/jovyan/capstone-34/34.210.104.115/eg_twitter_pickled'"
      ]
     },
     "execution_count": 105,
     "metadata": {},
     "output_type": "execute_result"
    }
   ],
   "source": [
    "pwd"
   ]
  },
  {
   "cell_type": "code",
   "execution_count": 106,
   "metadata": {},
   "outputs": [],
   "source": [
    "pd.options.display.max_colwidth = 75"
   ]
  },
  {
   "cell_type": "code",
   "execution_count": 107,
   "metadata": {},
   "outputs": [],
   "source": [
    "#cd .."
   ]
  },
  {
   "cell_type": "code",
   "execution_count": 108,
   "metadata": {},
   "outputs": [
    {
     "name": "stdout",
     "output_type": "stream",
     "text": [
      "/home/jovyan/capstone-34/34.210.104.115/eg_twitter_raw/eg_timelines_raw\n"
     ]
    }
   ],
   "source": [
    "cd ../eg_twitter_raw/eg_timelines_raw/"
   ]
  },
  {
   "cell_type": "code",
   "execution_count": 109,
   "metadata": {},
   "outputs": [
    {
     "name": "stdout",
     "output_type": "stream",
     "text": [
      "user_timeline_mamhosni.jsonl\r\n"
     ]
    }
   ],
   "source": [
    "ls"
   ]
  },
  {
   "cell_type": "markdown",
   "metadata": {},
   "source": [
    "### Turn query documents (tweets) into generators"
   ]
  },
  {
   "cell_type": "code",
   "execution_count": 22,
   "metadata": {},
   "outputs": [],
   "source": [
    "def load_tweets(file):\n",
    "    with open(file, 'r') as f:\n",
    "        tweets = (json.loads(line) for line in f.readlines())\n",
    "    return tweets"
   ]
  },
  {
   "cell_type": "code",
   "execution_count": 110,
   "metadata": {
    "scrolled": true
   },
   "outputs": [],
   "source": [
    "query_gen = load_tweets('user_timeline_mamhosni.jsonl')"
   ]
  },
  {
   "cell_type": "markdown",
   "metadata": {},
   "source": [
    "### Turn query generators into dataframes"
   ]
  },
  {
   "cell_type": "code",
   "execution_count": 111,
   "metadata": {},
   "outputs": [],
   "source": [
    "def tweet_to_df(tweets):\n",
    "    data = {'text': [], 'screen_name': [], 'geo': [],\n",
    "       }\n",
    "    \n",
    "    for t in tweets:\n",
    "    \n",
    "        data['text'].append(t['text'])\n",
    "        data['screen_name'].append(t['user']['screen_name'])\n",
    "        data['geo'].append(t['user']['location'])\n",
    "    \n",
    "    return pd.DataFrame(data)"
   ]
  },
  {
   "cell_type": "code",
   "execution_count": 112,
   "metadata": {},
   "outputs": [],
   "source": [
    "query_df = tweet_to_df(query_gen)"
   ]
  },
  {
   "cell_type": "code",
   "execution_count": 113,
   "metadata": {},
   "outputs": [
    {
     "data": {
      "text/html": [
       "<div>\n",
       "<table border=\"1\" class=\"dataframe\">\n",
       "  <thead>\n",
       "    <tr style=\"text-align: right;\">\n",
       "      <th></th>\n",
       "      <th>geo</th>\n",
       "      <th>screen_name</th>\n",
       "      <th>text</th>\n",
       "    </tr>\n",
       "  </thead>\n",
       "  <tbody>\n",
       "    <tr>\n",
       "      <th>684</th>\n",
       "      <td>الخُن</td>\n",
       "      <td>mamhosni</td>\n",
       "      <td>RT @galalaldeen713: @mamhosni مش أنا 😂😂😂 https://t.co/XwBwdZ40co</td>\n",
       "    </tr>\n",
       "    <tr>\n",
       "      <th>251</th>\n",
       "      <td>الخُن</td>\n",
       "      <td>mamhosni</td>\n",
       "      <td>فصبرٌ جميل والله المستعان على ما تصفون 🙏🏼🙏🏼🙏🏼 https://t.co/adnEcour36</td>\n",
       "    </tr>\n",
       "    <tr>\n",
       "      <th>2982</th>\n",
       "      <td>الخُن</td>\n",
       "      <td>mamhosni</td>\n",
       "      <td>RT @Thawri2011: @mamhosni مشيها https://t.co/KZsTmIVZvE</td>\n",
       "    </tr>\n",
       "    <tr>\n",
       "      <th>1834</th>\n",
       "      <td>الخُن</td>\n",
       "      <td>mamhosni</td>\n",
       "      <td>RT @adel_Esa: سيأتي يوم ما .. وحاكم ما .. فى عصر ما .. سيجمع مشايخ وكهن...</td>\n",
       "    </tr>\n",
       "  </tbody>\n",
       "</table>\n",
       "</div>"
      ],
      "text/plain": [
       "        geo screen_name  \\\n",
       "684   الخُن    mamhosni   \n",
       "251   الخُن    mamhosni   \n",
       "2982  الخُن    mamhosni   \n",
       "1834  الخُن    mamhosni   \n",
       "\n",
       "                                                                            text  \n",
       "684             RT @galalaldeen713: @mamhosni مش أنا 😂😂😂 https://t.co/XwBwdZ40co  \n",
       "251        فصبرٌ جميل والله المستعان على ما تصفون 🙏🏼🙏🏼🙏🏼 https://t.co/adnEcour36  \n",
       "2982                     RT @Thawri2011: @mamhosni مشيها https://t.co/KZsTmIVZvE  \n",
       "1834  RT @adel_Esa: سيأتي يوم ما .. وحاكم ما .. فى عصر ما .. سيجمع مشايخ وكهن...  "
      ]
     },
     "execution_count": 113,
     "metadata": {},
     "output_type": "execute_result"
    }
   ],
   "source": [
    "query_df.sample(4)"
   ]
  },
  {
   "cell_type": "markdown",
   "metadata": {},
   "source": [
    "### Clean tweets (removes emojis, links, special characters, and ASCII chars/digits from tweet text)"
   ]
  },
  {
   "cell_type": "markdown",
   "metadata": {},
   "source": [
    "Using a regular expression such as `[0-9A-Za-z:!/._?؟'+-=—]` can filter out much of the unwanted data and retain Arabic characters but still seems to also retain a more recently released generation of emojis. Experiment with different regex variations. Update tweet-preprocessor to version 0.5.0 or later. \n"
   ]
  },
  {
   "cell_type": "code",
   "execution_count": 114,
   "metadata": {},
   "outputs": [],
   "source": [
    "def cleaner(message):\n",
    "    message = re.sub(\"([0-9A-Za-z:&!/._?)؟'+-=—])\", \" \", message)\n",
    "    return message\n"
   ]
  },
  {
   "cell_type": "code",
   "execution_count": 115,
   "metadata": {},
   "outputs": [],
   "source": [
    "cleaned_text = []\n",
    "\n",
    "for tweet in query_df['text']:\n",
    "    cleaned_text.append(p.clean(cleaner(tweet)))\n",
    "\n",
    "query_df['cleaned_text']=cleaned_text"
   ]
  },
  {
   "cell_type": "code",
   "execution_count": 116,
   "metadata": {},
   "outputs": [],
   "source": [
    "cleaned_name = []\n",
    "\n",
    "for tweet in query_df['screen_name']:\n",
    "    cleaned_name.append(p.clean(tweet))\n",
    "\n",
    "query_df['cleaned_name']=cleaned_name"
   ]
  },
  {
   "cell_type": "code",
   "execution_count": 117,
   "metadata": {},
   "outputs": [],
   "source": [
    "cleaned_geo = []\n",
    "\n",
    "for tweet in query_df.geo:\n",
    "    cleaned_geo.append(p.clean(str(tweet)))\n",
    "\n",
    "query_df['cleaned_geo']=cleaned_geo\n"
   ]
  },
  {
   "cell_type": "code",
   "execution_count": 118,
   "metadata": {
    "scrolled": false
   },
   "outputs": [
    {
     "data": {
      "text/html": [
       "<div>\n",
       "<table border=\"1\" class=\"dataframe\">\n",
       "  <thead>\n",
       "    <tr style=\"text-align: right;\">\n",
       "      <th></th>\n",
       "      <th>geo</th>\n",
       "      <th>screen_name</th>\n",
       "      <th>text</th>\n",
       "      <th>cleaned_text</th>\n",
       "      <th>cleaned_name</th>\n",
       "      <th>cleaned_geo</th>\n",
       "    </tr>\n",
       "  </thead>\n",
       "  <tbody>\n",
       "    <tr>\n",
       "      <th>1842</th>\n",
       "      <td>الخُن</td>\n",
       "      <td>mamhosni</td>\n",
       "      <td>@77_Rania قلنا مليون مرة الخرفان عايزه برسيم بس ليه كدا بس \\nربنا ينفخه...</td>\n",
       "      <td>قلنا مليون مرة الخرفان عايزه برسيم بس ليه كدا بس ربنا ينفخهم بحق جاه النبي</td>\n",
       "      <td>mamhosni</td>\n",
       "      <td>الخُن</td>\n",
       "    </tr>\n",
       "    <tr>\n",
       "      <th>2554</th>\n",
       "      <td>الخُن</td>\n",
       "      <td>mamhosni</td>\n",
       "      <td>RT @yasmeen230479: @mamhosni 😔😔😔😔😔😔</td>\n",
       "      <td></td>\n",
       "      <td>mamhosni</td>\n",
       "      <td>الخُن</td>\n",
       "    </tr>\n",
       "    <tr>\n",
       "      <th>224</th>\n",
       "      <td>الخُن</td>\n",
       "      <td>mamhosni</td>\n",
       "      <td>@sokkarnabat90 يعني عشان ناس عرفناهم من ٣٠  سنة خلاص بقوا أصحابنا 🤔😂😂😂😂</td>\n",
       "      <td>يعني عشان ناس عرفناهم من سنة خلاص بقوا أصحابنا 🤔</td>\n",
       "      <td>mamhosni</td>\n",
       "      <td>الخُن</td>\n",
       "    </tr>\n",
       "    <tr>\n",
       "      <th>813</th>\n",
       "      <td>الخُن</td>\n",
       "      <td>mamhosni</td>\n",
       "      <td>#اسباب_السعاده_والانبساط \\n🙌😌😌😌 https://t.co/9V1BplX8RX</td>\n",
       "      <td>السعاده والانبساط</td>\n",
       "      <td>mamhosni</td>\n",
       "      <td>الخُن</td>\n",
       "    </tr>\n",
       "    <tr>\n",
       "      <th>1010</th>\n",
       "      <td>الخُن</td>\n",
       "      <td>mamhosni</td>\n",
       "      <td>RT @narmr22: @mamhosni اي نعم زغلوله 😂😂😂😂😂😂😂</td>\n",
       "      <td>اي نعم زغلوله</td>\n",
       "      <td>mamhosni</td>\n",
       "      <td>الخُن</td>\n",
       "    </tr>\n",
       "  </tbody>\n",
       "</table>\n",
       "</div>"
      ],
      "text/plain": [
       "        geo screen_name  \\\n",
       "1842  الخُن    mamhosni   \n",
       "2554  الخُن    mamhosni   \n",
       "224   الخُن    mamhosni   \n",
       "813   الخُن    mamhosni   \n",
       "1010  الخُن    mamhosni   \n",
       "\n",
       "                                                                            text  \\\n",
       "1842  @77_Rania قلنا مليون مرة الخرفان عايزه برسيم بس ليه كدا بس \\nربنا ينفخه...   \n",
       "2554                                         RT @yasmeen230479: @mamhosni 😔😔😔😔😔😔   \n",
       "224      @sokkarnabat90 يعني عشان ناس عرفناهم من ٣٠  سنة خلاص بقوا أصحابنا 🤔😂😂😂😂   \n",
       "813                      #اسباب_السعاده_والانبساط \\n🙌😌😌😌 https://t.co/9V1BplX8RX   \n",
       "1010                                RT @narmr22: @mamhosni اي نعم زغلوله 😂😂😂😂😂😂😂   \n",
       "\n",
       "                                                                    cleaned_text  \\\n",
       "1842  قلنا مليون مرة الخرفان عايزه برسيم بس ليه كدا بس ربنا ينفخهم بحق جاه النبي   \n",
       "2554                                                                               \n",
       "224                             يعني عشان ناس عرفناهم من سنة خلاص بقوا أصحابنا 🤔   \n",
       "813                                                            السعاده والانبساط   \n",
       "1010                                                               اي نعم زغلوله   \n",
       "\n",
       "     cleaned_name cleaned_geo  \n",
       "1842     mamhosni       الخُن  \n",
       "2554     mamhosni       الخُن  \n",
       "224      mamhosni       الخُن  \n",
       "813      mamhosni       الخُن  \n",
       "1010     mamhosni       الخُن  "
      ]
     },
     "execution_count": 118,
     "metadata": {},
     "output_type": "execute_result"
    }
   ],
   "source": [
    "query_df.sample(5)"
   ]
  },
  {
   "cell_type": "code",
   "execution_count": 119,
   "metadata": {},
   "outputs": [
    {
     "data": {
      "text/plain": [
       "(3184, 6)"
      ]
     },
     "execution_count": 119,
     "metadata": {},
     "output_type": "execute_result"
    }
   ],
   "source": [
    "query_df.shape"
   ]
  },
  {
   "cell_type": "markdown",
   "metadata": {},
   "source": [
    "### Remove duplicated tweets"
   ]
  },
  {
   "cell_type": "code",
   "execution_count": 120,
   "metadata": {},
   "outputs": [
    {
     "data": {
      "text/plain": [
       "394     False\n",
       "1759    False\n",
       "1534    False\n",
       "435     False\n",
       "1063    False\n",
       "Name: cleaned_text, dtype: bool"
      ]
     },
     "execution_count": 120,
     "metadata": {},
     "output_type": "execute_result"
    }
   ],
   "source": [
    "query_df['cleaned_text'].duplicated().sample(5)"
   ]
  },
  {
   "cell_type": "code",
   "execution_count": 121,
   "metadata": {},
   "outputs": [],
   "source": [
    "query_cleaned = query_df.drop_duplicates(['cleaned_text'], keep=False)\n",
    "query_cleaned = query_cleaned.drop(['screen_name', 'text', 'geo'], axis=1)"
   ]
  },
  {
   "cell_type": "code",
   "execution_count": 122,
   "metadata": {
    "scrolled": true
   },
   "outputs": [
    {
     "data": {
      "text/html": [
       "<div>\n",
       "<table border=\"1\" class=\"dataframe\">\n",
       "  <thead>\n",
       "    <tr style=\"text-align: right;\">\n",
       "      <th></th>\n",
       "      <th>cleaned_text</th>\n",
       "      <th>cleaned_name</th>\n",
       "      <th>cleaned_geo</th>\n",
       "    </tr>\n",
       "  </thead>\n",
       "  <tbody>\n",
       "    <tr>\n",
       "      <th>1940</th>\n",
       "      <td>كتير فعلا بلاقي التويته محفوظة معرفش ليه النت وعمايله بقا</td>\n",
       "      <td>mamhosni</td>\n",
       "      <td>الخُن</td>\n",
       "    </tr>\n",
       "    <tr>\n",
       "      <th>2035</th>\n",
       "      <td>كلنا مستهدفين</td>\n",
       "      <td>mamhosni</td>\n",
       "      <td>الخُن</td>\n",
       "    </tr>\n",
       "    <tr>\n",
       "      <th>815</th>\n",
       "      <td>ها ايه</td>\n",
       "      <td>mamhosni</td>\n",
       "      <td>الخُن</td>\n",
       "    </tr>\n",
       "    <tr>\n",
       "      <th>1432</th>\n",
       "      <td>العباسية</td>\n",
       "      <td>mamhosni</td>\n",
       "      <td>الخُن</td>\n",
       "    </tr>\n",
       "  </tbody>\n",
       "</table>\n",
       "</div>"
      ],
      "text/plain": [
       "                                                   cleaned_text cleaned_name  \\\n",
       "1940  كتير فعلا بلاقي التويته محفوظة معرفش ليه النت وعمايله بقا     mamhosni   \n",
       "2035                                              كلنا مستهدفين     mamhosni   \n",
       "815                                                      ها ايه     mamhosni   \n",
       "1432                                                   العباسية     mamhosni   \n",
       "\n",
       "     cleaned_geo  \n",
       "1940       الخُن  \n",
       "2035       الخُن  \n",
       "815        الخُن  \n",
       "1432       الخُن  "
      ]
     },
     "execution_count": 122,
     "metadata": {},
     "output_type": "execute_result"
    }
   ],
   "source": [
    "query_cleaned.sample(4)"
   ]
  },
  {
   "cell_type": "code",
   "execution_count": 123,
   "metadata": {},
   "outputs": [
    {
     "data": {
      "text/html": [
       "<div>\n",
       "<table border=\"1\" class=\"dataframe\">\n",
       "  <thead>\n",
       "    <tr style=\"text-align: right;\">\n",
       "      <th></th>\n",
       "      <th>cleaned_text</th>\n",
       "      <th>cleaned_name</th>\n",
       "      <th>cleaned_geo</th>\n",
       "    </tr>\n",
       "  </thead>\n",
       "  <tbody>\n",
       "    <tr>\n",
       "      <th>0</th>\n",
       "      <td>دي كانت لعبة بس بصيد بيها حسابات الدول الأجنبية بالعربي هههههههه</td>\n",
       "      <td>mamhosni</td>\n",
       "      <td>الخُن</td>\n",
       "    </tr>\n",
       "    <tr>\n",
       "      <th>1</th>\n",
       "      <td>وبعدين بقا ارسوا على بر اليابان ولا السويد</td>\n",
       "      <td>mamhosni</td>\n",
       "      <td>الخُن</td>\n",
       "    </tr>\n",
       "    <tr>\n",
       "      <th>2</th>\n",
       "      <td>تصبحون على وطن خالي من الدسم</td>\n",
       "      <td>mamhosni</td>\n",
       "      <td>الخُن</td>\n",
       "    </tr>\n",
       "    <tr>\n",
       "      <th>3</th>\n",
       "      <td>ورايا برد لا لو سمحت انا رجعت فرولايه</td>\n",
       "      <td>mamhosni</td>\n",
       "      <td>الخُن</td>\n",
       "    </tr>\n",
       "    <tr>\n",
       "      <th>4</th>\n",
       "      <td>حبيبي وابن حبيبي والنييييعمه ياحوووب</td>\n",
       "      <td>mamhosni</td>\n",
       "      <td>الخُن</td>\n",
       "    </tr>\n",
       "    <tr>\n",
       "      <th>5</th>\n",
       "      <td>دي مش اي مصلحه دا سحلب بالمخسرات يا حجوج</td>\n",
       "      <td>mamhosni</td>\n",
       "      <td>الخُن</td>\n",
       "    </tr>\n",
       "    <tr>\n",
       "      <th>6</th>\n",
       "      <td>كده هنخسر بعض انا لسه مقاطعه امي بسبب المواعين</td>\n",
       "      <td>mamhosni</td>\n",
       "      <td>الخُن</td>\n",
       "    </tr>\n",
       "    <tr>\n",
       "      <th>7</th>\n",
       "      <td>يالا يا مستكة نامي وراكي برد بدري</td>\n",
       "      <td>mamhosni</td>\n",
       "      <td>الخُن</td>\n",
       "    </tr>\n",
       "    <tr>\n",
       "      <th>8</th>\n",
       "      <td>مستكة جايه ف مصلحة</td>\n",
       "      <td>mamhosni</td>\n",
       "      <td>الخُن</td>\n",
       "    </tr>\n",
       "    <tr>\n",
       "      <th>9</th>\n",
       "      <td>منا رئيس بردو يا كبير المهندسين بس رئيس الخُن</td>\n",
       "      <td>mamhosni</td>\n",
       "      <td>الخُن</td>\n",
       "    </tr>\n",
       "    <tr>\n",
       "      <th>10</th>\n",
       "      <td>اومال لو قلتلك اغسلي المواعين هتعملي ايه تديني بلوك</td>\n",
       "      <td>mamhosni</td>\n",
       "      <td>الخُن</td>\n",
       "    </tr>\n",
       "    <tr>\n",
       "      <th>11</th>\n",
       "      <td>لا لا احنا كده دخلين علي طمع</td>\n",
       "      <td>mamhosni</td>\n",
       "      <td>الخُن</td>\n",
       "    </tr>\n",
       "    <tr>\n",
       "      <th>12</th>\n",
       "      <td>اها تصدق كنت هااغلط فيكوا اصل الشمخه شمخه رئيس مجلس برضووو</td>\n",
       "      <td>mamhosni</td>\n",
       "      <td>الخُن</td>\n",
       "    </tr>\n",
       "    <tr>\n",
       "      <th>13</th>\n",
       "      <td>ولو فيه حلبسه يبقى طبق حلبسه وكدا اتعشت يا فرولايه</td>\n",
       "      <td>mamhosni</td>\n",
       "      <td>الخُن</td>\n",
       "    </tr>\n",
       "    <tr>\n",
       "      <th>14</th>\n",
       "      <td>وانا كمان يا حج ونبي</td>\n",
       "      <td>mamhosni</td>\n",
       "      <td>الخُن</td>\n",
       "    </tr>\n",
       "    <tr>\n",
       "      <th>15</th>\n",
       "      <td>هو فلاديمير بوتن وانا فلادمير حسني هو رئيس روسيا وانا مجرد مواطن روسي ع...</td>\n",
       "      <td>mamhosni</td>\n",
       "      <td>الخُن</td>\n",
       "    </tr>\n",
       "    <tr>\n",
       "      <th>16</th>\n",
       "      <td>فلاديمير جاي يوم الاتنين انت اكيد منتحل</td>\n",
       "      <td>mamhosni</td>\n",
       "      <td>الخُن</td>\n",
       "    </tr>\n",
       "    <tr>\n",
       "      <th>17</th>\n",
       "      <td>الله يسلمك يا دوله</td>\n",
       "      <td>mamhosni</td>\n",
       "      <td>الخُن</td>\n",
       "    </tr>\n",
       "    <tr>\n",
       "      <th>18</th>\n",
       "      <td>حمد الله عا السلامه يادووح</td>\n",
       "      <td>mamhosni</td>\n",
       "      <td>الخُن</td>\n",
       "    </tr>\n",
       "    <tr>\n",
       "      <th>19</th>\n",
       "      <td>هو انتي بتذلينا ولا ايه يا ميسز مش انتي معانا في البرد دا برد</td>\n",
       "      <td>mamhosni</td>\n",
       "      <td>الخُن</td>\n",
       "    </tr>\n",
       "    <tr>\n",
       "      <th>20</th>\n",
       "      <td>ولسه انتوا لسه شفتوا برد</td>\n",
       "      <td>mamhosni</td>\n",
       "      <td>الخُن</td>\n",
       "    </tr>\n",
       "    <tr>\n",
       "      <th>21</th>\n",
       "      <td>لا احتاج حضناً كي أقاوم برد الشتاء احتاج ان تذهبي الي مطبخ وتعمليلي واح...</td>\n",
       "      <td>mamhosni</td>\n",
       "      <td>الخُن</td>\n",
       "    </tr>\n",
       "    <tr>\n",
       "      <th>23</th>\n",
       "      <td>معايا أيفون فور اس بايظ هبعتهولك عنيا</td>\n",
       "      <td>mamhosni</td>\n",
       "      <td>الخُن</td>\n",
       "    </tr>\n",
       "    <tr>\n",
       "      <th>24</th>\n",
       "      <td>طب هات الآيفون وابعتلك كلسون هدية</td>\n",
       "      <td>mamhosni</td>\n",
       "      <td>الخُن</td>\n",
       "    </tr>\n",
       "    <tr>\n",
       "      <th>25</th>\n",
       "      <td>الكلسون احسن يا هندوفيتش وانتي عارفه اني ديكتاتور ومش بحب المعارضة</td>\n",
       "      <td>mamhosni</td>\n",
       "      <td>الخُن</td>\n",
       "    </tr>\n",
       "    <tr>\n",
       "      <th>26</th>\n",
       "      <td>الكلام دا كذب</td>\n",
       "      <td>mamhosni</td>\n",
       "      <td>الخُن</td>\n",
       "    </tr>\n",
       "    <tr>\n",
       "      <th>27</th>\n",
       "      <td>في هذه الظروف العصيبة لا يسعني الا ان اقول الي معاه كلسون احسن من الي م...</td>\n",
       "      <td>mamhosni</td>\n",
       "      <td>الخُن</td>\n",
       "    </tr>\n",
       "    <tr>\n",
       "      <th>28</th>\n",
       "      <td>من وقت ما ترمبو أعلن عن موضوع القدس وهي عندها برد ونايمه</td>\n",
       "      <td>mamhosni</td>\n",
       "      <td>الخُن</td>\n",
       "    </tr>\n",
       "    <tr>\n",
       "      <th>29</th>\n",
       "      <td>ياجماعة الصفحة شكلها بقا كدة وبعدين بتتقلب بيضة كدة محتاجة دعم ودى حملة...</td>\n",
       "      <td>mamhosni</td>\n",
       "      <td>الخُن</td>\n",
       "    </tr>\n",
       "    <tr>\n",
       "      <th>30</th>\n",
       "      <td>يوم</td>\n",
       "      <td>mamhosni</td>\n",
       "      <td>الخُن</td>\n",
       "    </tr>\n",
       "    <tr>\n",
       "      <th>...</th>\n",
       "      <td>...</td>\n",
       "      <td>...</td>\n",
       "      <td>...</td>\n",
       "    </tr>\n",
       "    <tr>\n",
       "      <th>3151</th>\n",
       "      <td>الخلوق حازم امام كل مواليد شهر ابريل ناس جميلة</td>\n",
       "      <td>mamhosni</td>\n",
       "      <td>الخُن</td>\n",
       "    </tr>\n",
       "    <tr>\n",
       "      <th>3152</th>\n",
       "      <td>افرح يا قلبي لك نصيب تبلغ مناك ويا الحبيب افرح ياقلبي</td>\n",
       "      <td>mamhosni</td>\n",
       "      <td>الخُن</td>\n",
       "    </tr>\n",
       "    <tr>\n",
       "      <th>3153</th>\n",
       "      <td>يسعد صباحك أ صبري</td>\n",
       "      <td>mamhosni</td>\n",
       "      <td>الخُن</td>\n",
       "    </tr>\n",
       "    <tr>\n",
       "      <th>3154</th>\n",
       "      <td>صباح الطمئنينة ياهندسة</td>\n",
       "      <td>mamhosni</td>\n",
       "      <td>الخُن</td>\n",
       "    </tr>\n",
       "    <tr>\n",
       "      <th>3155</th>\n",
       "      <td>ابعتلي جواب وطمني ولو انه عتاب لا تحرمني ابعتلي جواب ابعتلي جواب وطمني</td>\n",
       "      <td>mamhosni</td>\n",
       "      <td>الخُن</td>\n",
       "    </tr>\n",
       "    <tr>\n",
       "      <th>3156</th>\n",
       "      <td>هو صحيح الهوى غلاب 🤔🤔 معرفش انا</td>\n",
       "      <td>mamhosni</td>\n",
       "      <td>الخُن</td>\n",
       "    </tr>\n",
       "    <tr>\n",
       "      <th>3157</th>\n",
       "      <td>هذه الدنيا سماء انت فيها القمر</td>\n",
       "      <td>mamhosni</td>\n",
       "      <td>الخُن</td>\n",
       "    </tr>\n",
       "    <tr>\n",
       "      <th>3158</th>\n",
       "      <td>يالا شوقي واحتراقي في انتظار الموعد احسنت</td>\n",
       "      <td>mamhosni</td>\n",
       "      <td>الخُن</td>\n",
       "    </tr>\n",
       "    <tr>\n",
       "      <th>3159</th>\n",
       "      <td>ريحي نفسك وهاتي شخارة بالكهربا</td>\n",
       "      <td>mamhosni</td>\n",
       "      <td>الخُن</td>\n",
       "    </tr>\n",
       "    <tr>\n",
       "      <th>3160</th>\n",
       "      <td>انا تعبت اشكر</td>\n",
       "      <td>mamhosni</td>\n",
       "      <td>الخُن</td>\n",
       "    </tr>\n",
       "    <tr>\n",
       "      <th>3161</th>\n",
       "      <td>يسعد مساك يا قبطان</td>\n",
       "      <td>mamhosni</td>\n",
       "      <td>الخُن</td>\n",
       "    </tr>\n",
       "    <tr>\n",
       "      <th>3162</th>\n",
       "      <td>وانتي كده زعلانه ولامبسوطه</td>\n",
       "      <td>mamhosni</td>\n",
       "      <td>الخُن</td>\n",
       "    </tr>\n",
       "    <tr>\n",
       "      <th>3163</th>\n",
       "      <td>قول والمصحف 🤔 اصل جدي هو الي اداهم وعد بلفور عام</td>\n",
       "      <td>mamhosni</td>\n",
       "      <td>الخُن</td>\n",
       "    </tr>\n",
       "    <tr>\n",
       "      <th>3164</th>\n",
       "      <td>أغداً ألقاك يا خوف فؤادي من غدٍ يالشوقي وإحتراقي في إنتظار الموعدِ</td>\n",
       "      <td>mamhosni</td>\n",
       "      <td>الخُن</td>\n",
       "    </tr>\n",
       "    <tr>\n",
       "      <th>3165</th>\n",
       "      <td>شكرا يا باشمهندس ربنا يخليك</td>\n",
       "      <td>mamhosni</td>\n",
       "      <td>الخُن</td>\n",
       "    </tr>\n",
       "    <tr>\n",
       "      <th>3166</th>\n",
       "      <td>الله يعينك ياحوووبي</td>\n",
       "      <td>mamhosni</td>\n",
       "      <td>الخُن</td>\n",
       "    </tr>\n",
       "    <tr>\n",
       "      <th>3167</th>\n",
       "      <td>اسكت ياحوت يهده الشغل يارب يمووووت</td>\n",
       "      <td>mamhosni</td>\n",
       "      <td>الخُن</td>\n",
       "    </tr>\n",
       "    <tr>\n",
       "      <th>3168</th>\n",
       "      <td>الف مليون مبروك لسلمى ويارب تتهنى وعقبال باقي اخواتها يارب في حياتك يا ...</td>\n",
       "      <td>mamhosni</td>\n",
       "      <td>الخُن</td>\n",
       "    </tr>\n",
       "    <tr>\n",
       "      <th>3169</th>\n",
       "      <td>وعروستى</td>\n",
       "      <td>mamhosni</td>\n",
       "      <td>الخُن</td>\n",
       "    </tr>\n",
       "    <tr>\n",
       "      <th>3170</th>\n",
       "      <td>مساء السعادة ياهندسة</td>\n",
       "      <td>mamhosni</td>\n",
       "      <td>الخُن</td>\n",
       "    </tr>\n",
       "    <tr>\n",
       "      <th>3171</th>\n",
       "      <td>الحوب الحوب وصل وصل وصل</td>\n",
       "      <td>mamhosni</td>\n",
       "      <td>الخُن</td>\n",
       "    </tr>\n",
       "    <tr>\n",
       "      <th>3172</th>\n",
       "      <td>مساااااءووو اهندسة عايزين نناقش دروس محو الامية للاباء والامهات</td>\n",
       "      <td>mamhosni</td>\n",
       "      <td>الخُن</td>\n",
       "    </tr>\n",
       "    <tr>\n",
       "      <th>3173</th>\n",
       "      <td>حوب ياحووب انت لسه مخلص شغل</td>\n",
       "      <td>mamhosni</td>\n",
       "      <td>الخُن</td>\n",
       "    </tr>\n",
       "    <tr>\n",
       "      <th>3174</th>\n",
       "      <td>مساااااءوووو يا رجالة ايوووة قوله مايصدقش الافلام</td>\n",
       "      <td>mamhosni</td>\n",
       "      <td>الخُن</td>\n",
       "    </tr>\n",
       "    <tr>\n",
       "      <th>3175</th>\n",
       "      <td>هههههههههههه سامعه يا كرااش ربنا يخليكم لبعض يارب يا ويكاا</td>\n",
       "      <td>mamhosni</td>\n",
       "      <td>الخُن</td>\n",
       "    </tr>\n",
       "    <tr>\n",
       "      <th>3177</th>\n",
       "      <td>انا بعد ما كسبت في المسابقة دي بهدي الاغنية دي للكراش</td>\n",
       "      <td>mamhosni</td>\n",
       "      <td>الخُن</td>\n",
       "    </tr>\n",
       "    <tr>\n",
       "      <th>3179</th>\n",
       "      <td>والنبي كوت جميل</td>\n",
       "      <td>mamhosni</td>\n",
       "      <td>الخُن</td>\n",
       "    </tr>\n",
       "    <tr>\n",
       "      <th>3180</th>\n",
       "      <td>دا مستعمرة نمل مش لاعبين ياعم شوف لنا كوت حونيين كدا وكله سهوكة</td>\n",
       "      <td>mamhosni</td>\n",
       "      <td>الخُن</td>\n",
       "    </tr>\n",
       "    <tr>\n",
       "      <th>3181</th>\n",
       "      <td>الصوره دي حقيقيه والله كنت هسند عليها امبارح بس ربنا ستر</td>\n",
       "      <td>mamhosni</td>\n",
       "      <td>الخُن</td>\n",
       "    </tr>\n",
       "    <tr>\n",
       "      <th>3183</th>\n",
       "      <td>لااااا قوووول</td>\n",
       "      <td>mamhosni</td>\n",
       "      <td>الخُن</td>\n",
       "    </tr>\n",
       "  </tbody>\n",
       "</table>\n",
       "<p>2867 rows × 3 columns</p>\n",
       "</div>"
      ],
      "text/plain": [
       "                                                                    cleaned_text  \\\n",
       "0               دي كانت لعبة بس بصيد بيها حسابات الدول الأجنبية بالعربي هههههههه   \n",
       "1                                     وبعدين بقا ارسوا على بر اليابان ولا السويد   \n",
       "2                                                   تصبحون على وطن خالي من الدسم   \n",
       "3                                          ورايا برد لا لو سمحت انا رجعت فرولايه   \n",
       "4                                           حبيبي وابن حبيبي والنييييعمه ياحوووب   \n",
       "5                                       دي مش اي مصلحه دا سحلب بالمخسرات يا حجوج   \n",
       "6                                 كده هنخسر بعض انا لسه مقاطعه امي بسبب المواعين   \n",
       "7                                              يالا يا مستكة نامي وراكي برد بدري   \n",
       "8                                                             مستكة جايه ف مصلحة   \n",
       "9                                  منا رئيس بردو يا كبير المهندسين بس رئيس الخُن   \n",
       "10                           اومال لو قلتلك اغسلي المواعين هتعملي ايه تديني بلوك   \n",
       "11                                                  لا لا احنا كده دخلين علي طمع   \n",
       "12                    اها تصدق كنت هااغلط فيكوا اصل الشمخه شمخه رئيس مجلس برضووو   \n",
       "13                            ولو فيه حلبسه يبقى طبق حلبسه وكدا اتعشت يا فرولايه   \n",
       "14                                                          وانا كمان يا حج ونبي   \n",
       "15    هو فلاديمير بوتن وانا فلادمير حسني هو رئيس روسيا وانا مجرد مواطن روسي ع...   \n",
       "16                                       فلاديمير جاي يوم الاتنين انت اكيد منتحل   \n",
       "17                                                            الله يسلمك يا دوله   \n",
       "18                                                    حمد الله عا السلامه يادووح   \n",
       "19                 هو انتي بتذلينا ولا ايه يا ميسز مش انتي معانا في البرد دا برد   \n",
       "20                                                      ولسه انتوا لسه شفتوا برد   \n",
       "21    لا احتاج حضناً كي أقاوم برد الشتاء احتاج ان تذهبي الي مطبخ وتعمليلي واح...   \n",
       "23                                         معايا أيفون فور اس بايظ هبعتهولك عنيا   \n",
       "24                                             طب هات الآيفون وابعتلك كلسون هدية   \n",
       "25            الكلسون احسن يا هندوفيتش وانتي عارفه اني ديكتاتور ومش بحب المعارضة   \n",
       "26                                                                 الكلام دا كذب   \n",
       "27    في هذه الظروف العصيبة لا يسعني الا ان اقول الي معاه كلسون احسن من الي م...   \n",
       "28                      من وقت ما ترمبو أعلن عن موضوع القدس وهي عندها برد ونايمه   \n",
       "29    ياجماعة الصفحة شكلها بقا كدة وبعدين بتتقلب بيضة كدة محتاجة دعم ودى حملة...   \n",
       "30                                                                           يوم   \n",
       "...                                                                          ...   \n",
       "3151                              الخلوق حازم امام كل مواليد شهر ابريل ناس جميلة   \n",
       "3152                       افرح يا قلبي لك نصيب تبلغ مناك ويا الحبيب افرح ياقلبي   \n",
       "3153                                                           يسعد صباحك أ صبري   \n",
       "3154                                                      صباح الطمئنينة ياهندسة   \n",
       "3155      ابعتلي جواب وطمني ولو انه عتاب لا تحرمني ابعتلي جواب ابعتلي جواب وطمني   \n",
       "3156                                             هو صحيح الهوى غلاب 🤔🤔 معرفش انا   \n",
       "3157                                              هذه الدنيا سماء انت فيها القمر   \n",
       "3158                                   يالا شوقي واحتراقي في انتظار الموعد احسنت   \n",
       "3159                                              ريحي نفسك وهاتي شخارة بالكهربا   \n",
       "3160                                                               انا تعبت اشكر   \n",
       "3161                                                          يسعد مساك يا قبطان   \n",
       "3162                                                  وانتي كده زعلانه ولامبسوطه   \n",
       "3163                            قول والمصحف 🤔 اصل جدي هو الي اداهم وعد بلفور عام   \n",
       "3164          أغداً ألقاك يا خوف فؤادي من غدٍ يالشوقي وإحتراقي في إنتظار الموعدِ   \n",
       "3165                                                 شكرا يا باشمهندس ربنا يخليك   \n",
       "3166                                                         الله يعينك ياحوووبي   \n",
       "3167                                          اسكت ياحوت يهده الشغل يارب يمووووت   \n",
       "3168  الف مليون مبروك لسلمى ويارب تتهنى وعقبال باقي اخواتها يارب في حياتك يا ...   \n",
       "3169                                                                     وعروستى   \n",
       "3170                                                        مساء السعادة ياهندسة   \n",
       "3171                                                     الحوب الحوب وصل وصل وصل   \n",
       "3172             مساااااءووو اهندسة عايزين نناقش دروس محو الامية للاباء والامهات   \n",
       "3173                                                 حوب ياحووب انت لسه مخلص شغل   \n",
       "3174                           مساااااءوووو يا رجالة ايوووة قوله مايصدقش الافلام   \n",
       "3175                  هههههههههههه سامعه يا كرااش ربنا يخليكم لبعض يارب يا ويكاا   \n",
       "3177                       انا بعد ما كسبت في المسابقة دي بهدي الاغنية دي للكراش   \n",
       "3179                                                             والنبي كوت جميل   \n",
       "3180             دا مستعمرة نمل مش لاعبين ياعم شوف لنا كوت حونيين كدا وكله سهوكة   \n",
       "3181                    الصوره دي حقيقيه والله كنت هسند عليها امبارح بس ربنا ستر   \n",
       "3183                                                               لااااا قوووول   \n",
       "\n",
       "     cleaned_name cleaned_geo  \n",
       "0        mamhosni       الخُن  \n",
       "1        mamhosni       الخُن  \n",
       "2        mamhosni       الخُن  \n",
       "3        mamhosni       الخُن  \n",
       "4        mamhosni       الخُن  \n",
       "5        mamhosni       الخُن  \n",
       "6        mamhosni       الخُن  \n",
       "7        mamhosni       الخُن  \n",
       "8        mamhosni       الخُن  \n",
       "9        mamhosni       الخُن  \n",
       "10       mamhosni       الخُن  \n",
       "11       mamhosni       الخُن  \n",
       "12       mamhosni       الخُن  \n",
       "13       mamhosni       الخُن  \n",
       "14       mamhosni       الخُن  \n",
       "15       mamhosni       الخُن  \n",
       "16       mamhosni       الخُن  \n",
       "17       mamhosni       الخُن  \n",
       "18       mamhosni       الخُن  \n",
       "19       mamhosni       الخُن  \n",
       "20       mamhosni       الخُن  \n",
       "21       mamhosni       الخُن  \n",
       "23       mamhosni       الخُن  \n",
       "24       mamhosni       الخُن  \n",
       "25       mamhosni       الخُن  \n",
       "26       mamhosni       الخُن  \n",
       "27       mamhosni       الخُن  \n",
       "28       mamhosni       الخُن  \n",
       "29       mamhosni       الخُن  \n",
       "30       mamhosni       الخُن  \n",
       "...           ...         ...  \n",
       "3151     mamhosni       الخُن  \n",
       "3152     mamhosni       الخُن  \n",
       "3153     mamhosni       الخُن  \n",
       "3154     mamhosni       الخُن  \n",
       "3155     mamhosni       الخُن  \n",
       "3156     mamhosni       الخُن  \n",
       "3157     mamhosni       الخُن  \n",
       "3158     mamhosni       الخُن  \n",
       "3159     mamhosni       الخُن  \n",
       "3160     mamhosni       الخُن  \n",
       "3161     mamhosni       الخُن  \n",
       "3162     mamhosni       الخُن  \n",
       "3163     mamhosni       الخُن  \n",
       "3164     mamhosni       الخُن  \n",
       "3165     mamhosni       الخُن  \n",
       "3166     mamhosni       الخُن  \n",
       "3167     mamhosni       الخُن  \n",
       "3168     mamhosni       الخُن  \n",
       "3169     mamhosni       الخُن  \n",
       "3170     mamhosni       الخُن  \n",
       "3171     mamhosni       الخُن  \n",
       "3172     mamhosni       الخُن  \n",
       "3173     mamhosni       الخُن  \n",
       "3174     mamhosni       الخُن  \n",
       "3175     mamhosni       الخُن  \n",
       "3177     mamhosni       الخُن  \n",
       "3179     mamhosni       الخُن  \n",
       "3180     mamhosni       الخُن  \n",
       "3181     mamhosni       الخُن  \n",
       "3183     mamhosni       الخُن  \n",
       "\n",
       "[2867 rows x 3 columns]"
      ]
     },
     "execution_count": 123,
     "metadata": {},
     "output_type": "execute_result"
    }
   ],
   "source": [
    "query_cleaned.fillna('None')"
   ]
  },
  {
   "cell_type": "code",
   "execution_count": 124,
   "metadata": {},
   "outputs": [
    {
     "name": "stdout",
     "output_type": "stream",
     "text": [
      "<class 'pandas.core.frame.DataFrame'>\n",
      "Int64Index: 2867 entries, 0 to 3183\n",
      "Data columns (total 3 columns):\n",
      "cleaned_text    2867 non-null object\n",
      "cleaned_name    2867 non-null object\n",
      "cleaned_geo     2867 non-null object\n",
      "dtypes: object(3)\n",
      "memory usage: 89.6+ KB\n"
     ]
    }
   ],
   "source": [
    "query_cleaned.info() "
   ]
  },
  {
   "cell_type": "markdown",
   "metadata": {},
   "source": [
    "### Consolidate different geo tags"
   ]
  },
  {
   "cell_type": "code",
   "execution_count": 125,
   "metadata": {},
   "outputs": [],
   "source": [
    "locations = {'Saudi Arabia': ['Kingdom of Saudi Arabia', 'MAKKAH', 'saudi arabia', 'jeddah', 'مكة المكرمة', 'المملكة العربية', 'Jeddah', 'Riyadh', 'المملكة العربية السعودية', 'الرياض, المملكة العربية السعودية', 'الرياض, المملكة العربية السعودية', 'jeddah , saudi arabia', 'الرياض', 'آلقصيم ، بريده', 'جدة, المملكة العربية السعودية', 'المدينة المنورة, المملكة العربية السعودية', 'Riyadh, Kingdom of Saudi Arabia', 'makkah - saudi arabia', 'جده', 'Dammam', 'Dammam, Eastern', 'Al Khobar, Kingdom of Saudi Arabia'],\n",
    "             'Kuwait': ['الكويت', 'Alkuwait', 'kuwait', 'KUWAIT', 'Kuwait , Salwa', 'Qortuba, Kuwait', 'دولة الكويت', 'العاصمه, دولة الكويت', 'The Capital, Kuwait', 'Al Salam, Kuwait', 'Salwa, Kuwait', 'كوكب الشرق - Kuwait'],\n",
    "             'Egypt': ['Domiat, Egypt', 'Damitta', 'Alexandria, Egypt', 'Damitta-Egypt', 'Giza, Egypt', 'New damieta city', 'مصر', 'القاهرة, مصر', 'El Behera, Egypt', 'الجيزة, مصر', 'Elmansoura', 'El Menia, Egypt', 'El Qaliobia, Egypt', 'البحيرة, مصر', 'Domyat elgadeda', 'El Sharkia, Egypt', 'sharkia_fakous', 'Cairo, Egypt', 'Alexandria,Egypt', 'ELsharkia , Egypt', 'شمال سيناء, مصر', 'كفر الشيخ, مصر', 'Port Said, Egypt', 'Beni Suef, Egypt', 'القليوبية, مصر', 'بنها', 'Aswan', 'Beni Suef, Egypt', 'Zagazig,Egypt', 'Ismalia, Egypt', 'Kafr El Shikh, Egypt', 'القاهرة, مصر', 'البحيرة, مصر', 'live in q8 .. bas masrya', 'القاهرة, مصر', 'Domiat, Egypt', 'Alexandria, Egypt', 'Cairo, Egypt', 'El Menia', 'أسكندرية', 'Alexandria', 'tanta', 'giza,egypt', 'Giza Governorate, Egypt', 'Mansoura', 'Mansura,Egypt','المنوفية, مصر', 'مصر الاسكندرية','El Sharkia, Egypt', 'El Daqahlia, Egypt', 'Cairo -Egypt', 'Cairo , Egypt', 'Aswan, Egypt', 'Mansurah, Egypt', 'الأسكندرية, مصر', 'alexandria', 'الأقصر, مصر', 'Cairo', 'El Gharbia, Egypt', 'egypt', 'Mansoura,Egypt', 'Beni Suef, Egypt', 'Mansoura', 'El Daqahlia, Egypt', 'El Monofia, Egypt']\n",
    "            }"
   ]
  },
  {
   "cell_type": "code",
   "execution_count": 126,
   "metadata": {},
   "outputs": [
    {
     "data": {
      "text/plain": [
       "True"
      ]
     },
     "execution_count": 126,
     "metadata": {},
     "output_type": "execute_result"
    }
   ],
   "source": [
    "'MAKKAH' in list(locations.values())[0]"
   ]
  },
  {
   "cell_type": "code",
   "execution_count": 127,
   "metadata": {},
   "outputs": [
    {
     "data": {
      "text/plain": [
       "False"
      ]
     },
     "execution_count": 127,
     "metadata": {},
     "output_type": "execute_result"
    }
   ],
   "source": [
    "'MAKKAH' in list(locations.values())[1]"
   ]
  },
  {
   "cell_type": "code",
   "execution_count": 128,
   "metadata": {},
   "outputs": [
    {
     "data": {
      "text/plain": [
       "dict_values([['Kingdom of Saudi Arabia', 'MAKKAH', 'saudi arabia', 'jeddah', 'مكة المكرمة', 'المملكة العربية', 'Jeddah', 'Riyadh', 'المملكة العربية السعودية', 'الرياض, المملكة العربية السعودية', 'الرياض, المملكة العربية السعودية', 'jeddah , saudi arabia', 'الرياض', 'آلقصيم ، بريده', 'جدة, المملكة العربية السعودية', 'المدينة المنورة, المملكة العربية السعودية', 'Riyadh, Kingdom of Saudi Arabia', 'makkah - saudi arabia', 'جده', 'Dammam', 'Dammam, Eastern', 'Al Khobar, Kingdom of Saudi Arabia'], ['الكويت', 'Alkuwait', 'kuwait', 'KUWAIT', 'Kuwait , Salwa', 'Qortuba, Kuwait', 'دولة الكويت', 'العاصمه, دولة الكويت', 'The Capital, Kuwait', 'Al Salam, Kuwait', 'Salwa, Kuwait', 'كوكب الشرق - Kuwait'], ['Domiat, Egypt', 'Damitta', 'Alexandria, Egypt', 'Damitta-Egypt', 'Giza, Egypt', 'New damieta city', 'مصر', 'القاهرة, مصر', 'El Behera, Egypt', 'الجيزة, مصر', 'Elmansoura', 'El Menia, Egypt', 'El Qaliobia, Egypt', 'البحيرة, مصر', 'Domyat elgadeda', 'El Sharkia, Egypt', 'sharkia_fakous', 'Cairo, Egypt', 'Alexandria,Egypt', 'ELsharkia , Egypt', 'شمال سيناء, مصر', 'كفر الشيخ, مصر', 'Port Said, Egypt', 'Beni Suef, Egypt', 'القليوبية, مصر', 'بنها', 'Aswan', 'Beni Suef, Egypt', 'Zagazig,Egypt', 'Ismalia, Egypt', 'Kafr El Shikh, Egypt', 'القاهرة, مصر', 'البحيرة, مصر', 'live in q8 .. bas masrya', 'القاهرة, مصر', 'Domiat, Egypt', 'Alexandria, Egypt', 'Cairo, Egypt', 'El Menia', 'أسكندرية', 'Alexandria', 'tanta', 'giza,egypt', 'Giza Governorate, Egypt', 'Mansoura', 'Mansura,Egypt', 'المنوفية, مصر', 'مصر الاسكندرية', 'El Sharkia, Egypt', 'El Daqahlia, Egypt', 'Cairo -Egypt', 'Cairo , Egypt', 'Aswan, Egypt', 'Mansurah, Egypt', 'الأسكندرية, مصر', 'alexandria', 'الأقصر, مصر', 'Cairo', 'El Gharbia, Egypt', 'egypt', 'Mansoura,Egypt', 'Beni Suef, Egypt', 'Mansoura', 'El Daqahlia, Egypt', 'El Monofia, Egypt']])"
      ]
     },
     "execution_count": 128,
     "metadata": {},
     "output_type": "execute_result"
    }
   ],
   "source": [
    "locations.values()"
   ]
  },
  {
   "cell_type": "code",
   "execution_count": 129,
   "metadata": {},
   "outputs": [],
   "source": [
    "for word in query_cleaned['cleaned_geo'].str.split('_'):\n",
    "    if word[0] in list(locations.values())[0]:\n",
    "        query_cleaned['cleaned_geo'].replace(word, 'Saudi Arabia', inplace=True)\n",
    "    elif word[0] in list(locations.values())[1]:\n",
    "            query_cleaned['cleaned_geo'].replace(word, 'Kuwait', inplace=True)\n",
    "    else:\n",
    "        if word[0] in list(locations.values())[2]:\n",
    "            query_cleaned['cleaned_geo'].replace(word, 'Egypt', inplace=True)\n",
    "            "
   ]
  },
  {
   "cell_type": "code",
   "execution_count": 132,
   "metadata": {},
   "outputs": [
    {
     "data": {
      "text/html": [
       "<div>\n",
       "<table border=\"1\" class=\"dataframe\">\n",
       "  <thead>\n",
       "    <tr style=\"text-align: right;\">\n",
       "      <th></th>\n",
       "      <th>cleaned_text</th>\n",
       "      <th>cleaned_name</th>\n",
       "      <th>cleaned_geo</th>\n",
       "    </tr>\n",
       "  </thead>\n",
       "  <tbody>\n",
       "    <tr>\n",
       "      <th>1549</th>\n",
       "      <td>هنفسي علي مهلنا بقي</td>\n",
       "      <td>mamhosni</td>\n",
       "      <td>الخُن</td>\n",
       "    </tr>\n",
       "    <tr>\n",
       "      <th>861</th>\n",
       "      <td>ايوة يا هندسة ما تسكتش</td>\n",
       "      <td>mamhosni</td>\n",
       "      <td>الخُن</td>\n",
       "    </tr>\n",
       "    <tr>\n",
       "      <th>2814</th>\n",
       "      <td>هههههههههههههههههههههههه</td>\n",
       "      <td>mamhosni</td>\n",
       "      <td>الخُن</td>\n",
       "    </tr>\n",
       "    <tr>\n",
       "      <th>2697</th>\n",
       "      <td>سلاماً على من سكن في القلب سلاماً على من تشتاق له الروح عهداً لك انت ال...</td>\n",
       "      <td>mamhosni</td>\n",
       "      <td>الخُن</td>\n",
       "    </tr>\n",
       "    <tr>\n",
       "      <th>1995</th>\n",
       "      <td>لازم إعدام الإخوان اللى فىالسجون لوقف نزيف الدم المصري</td>\n",
       "      <td>mamhosni</td>\n",
       "      <td>الخُن</td>\n",
       "    </tr>\n",
       "  </tbody>\n",
       "</table>\n",
       "</div>"
      ],
      "text/plain": [
       "                                                                    cleaned_text  \\\n",
       "1549                                                         هنفسي علي مهلنا بقي   \n",
       "861                                                       ايوة يا هندسة ما تسكتش   \n",
       "2814                                                    هههههههههههههههههههههههه   \n",
       "2697  سلاماً على من سكن في القلب سلاماً على من تشتاق له الروح عهداً لك انت ال...   \n",
       "1995                      لازم إعدام الإخوان اللى فىالسجون لوقف نزيف الدم المصري   \n",
       "\n",
       "     cleaned_name cleaned_geo  \n",
       "1549     mamhosni       الخُن  \n",
       "861      mamhosni       الخُن  \n",
       "2814     mamhosni       الخُن  \n",
       "2697     mamhosni       الخُن  \n",
       "1995     mamhosni       الخُن  "
      ]
     },
     "execution_count": 132,
     "metadata": {},
     "output_type": "execute_result"
    }
   ],
   "source": [
    "query_cleaned.sample(5)"
   ]
  },
  {
   "cell_type": "markdown",
   "metadata": {},
   "source": [
    "### Pickle to conduct EDA in seperate notebook"
   ]
  },
  {
   "cell_type": "code",
   "execution_count": 133,
   "metadata": {},
   "outputs": [
    {
     "data": {
      "text/plain": [
       "'/home/jovyan/capstone-34/34.210.104.115/eg_twitter_raw/eg_timelines_raw'"
      ]
     },
     "execution_count": 133,
     "metadata": {},
     "output_type": "execute_result"
    }
   ],
   "source": [
    "pwd"
   ]
  },
  {
   "cell_type": "code",
   "execution_count": 134,
   "metadata": {},
   "outputs": [
    {
     "name": "stdout",
     "output_type": "stream",
     "text": [
      "/home/jovyan\n"
     ]
    }
   ],
   "source": [
    "cd"
   ]
  },
  {
   "cell_type": "code",
   "execution_count": 135,
   "metadata": {},
   "outputs": [
    {
     "name": "stdout",
     "output_type": "stream",
     "text": [
      "/home/jovyan/capstone-34/34.210.104.115/eg_twitter_pickled\n"
     ]
    }
   ],
   "source": [
    "cd capstone-34/34.210.104.115/eg_twitter_pickled"
   ]
  },
  {
   "cell_type": "code",
   "execution_count": 136,
   "metadata": {
    "scrolled": true
   },
   "outputs": [],
   "source": [
    "query_cleaned.to_pickle('../eg_twitter_pickled/user_timeline_mamhosni.p')"
   ]
  },
  {
   "cell_type": "code",
   "execution_count": null,
   "metadata": {},
   "outputs": [],
   "source": []
  }
 ],
 "metadata": {
  "kernelspec": {
   "display_name": "Python 3",
   "language": "python",
   "name": "python3"
  },
  "language_info": {
   "codemirror_mode": {
    "name": "ipython",
    "version": 3
   },
   "file_extension": ".py",
   "mimetype": "text/x-python",
   "name": "python",
   "nbconvert_exporter": "python",
   "pygments_lexer": "ipython3",
   "version": "3.6.3"
  }
 },
 "nbformat": 4,
 "nbformat_minor": 2
}
